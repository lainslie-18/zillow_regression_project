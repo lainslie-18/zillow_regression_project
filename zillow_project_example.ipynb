{
 "cells": [
  {
   "cell_type": "code",
   "execution_count": 25,
   "id": "7f55d57b",
   "metadata": {},
   "outputs": [],
   "source": [
    "# imports\n",
    "import pandas as pd\n",
    "import numpy as np\n",
    "import matplotlib.pyplot as plt\n",
    "import seaborn as sns\n",
    "from sklearn.model_selection import train_test_split\n",
    "from scipy import stats\n",
    "\n",
    "from sklearn.ensemble import RandomForestClassifier\n",
    "from sklearn.neighbors import KNeighborsClassifier\n",
    "from sklearn.linear_model import LogisticRegression\n",
    "from sklearn.metrics import recall_score, precision_score, f1_score, accuracy_score\n",
    "from sklearn.tree import export_graphviz\n",
    "from sklearn.metrics import classification_report\n",
    "from sklearn.metrics import confusion_matrix\n",
    "\n",
    "import graphviz\n",
    "from graphviz import Graph\n",
    "\n",
    "import env\n",
    "import acquire\n",
    "import prepare\n",
    "import os\n",
    "\n",
    "# turn off pink boxes for demo\n",
    "import warnings\n",
    "warnings.filterwarnings(\"ignore\")"
   ]
  },
  {
   "cell_type": "code",
   "execution_count": 26,
   "id": "fd992b01",
   "metadata": {},
   "outputs": [],
   "source": [
    "# change setting to show all columns\n",
    "pd.set_option('display.max_columns', None)"
   ]
  },
  {
   "cell_type": "markdown",
   "id": "ed5fb901",
   "metadata": {},
   "source": [
    "# Telco Customer Churn"
   ]
  },
  {
   "cell_type": "markdown",
   "id": "53c3d600",
   "metadata": {},
   "source": [
    "Lori Ainslie, 11/29/21"
   ]
  },
  {
   "cell_type": "markdown",
   "id": "92384d9d",
   "metadata": {},
   "source": [
    "***"
   ]
  },
  {
   "cell_type": "markdown",
   "id": "498ef2ae",
   "metadata": {},
   "source": [
    "# Executive Summary\n",
    "\n",
    "## Project Goals\n",
    "\n",
    "- To identify drivers of customer churn and find a solution for increasing customer retention\n",
    "\n",
    "- To construct a model that accurately predicts which customers are most likely to churn to focus retention efforts\n",
    "\n",
    "## Project Description\n",
    "\n",
    "- Reducing churn is important to the company because lost customers means lost revenue. The cost of acquiring a new customer is much higher than maintaining a customer so this project will attempt to identify strategies that reduce customer churn. In the process, we are also looking for ways to improve customer satisfaction to increase the company's rate of growth."
   ]
  },
  {
   "cell_type": "markdown",
   "id": "a51de779",
   "metadata": {},
   "source": [
    "***"
   ]
  },
  {
   "cell_type": "markdown",
   "id": "d3243e49",
   "metadata": {},
   "source": [
    "# Acquisition"
   ]
  },
  {
   "cell_type": "code",
   "execution_count": 27,
   "id": "4720b225",
   "metadata": {},
   "outputs": [
    {
     "data": {
      "text/html": [
       "<div>\n",
       "<style scoped>\n",
       "    .dataframe tbody tr th:only-of-type {\n",
       "        vertical-align: middle;\n",
       "    }\n",
       "\n",
       "    .dataframe tbody tr th {\n",
       "        vertical-align: top;\n",
       "    }\n",
       "\n",
       "    .dataframe thead th {\n",
       "        text-align: right;\n",
       "    }\n",
       "</style>\n",
       "<table border=\"1\" class=\"dataframe\">\n",
       "  <thead>\n",
       "    <tr style=\"text-align: right;\">\n",
       "      <th></th>\n",
       "      <th>payment_type_id</th>\n",
       "      <th>internet_service_type_id</th>\n",
       "      <th>contract_type_id</th>\n",
       "      <th>customer_id</th>\n",
       "      <th>gender</th>\n",
       "      <th>senior_citizen</th>\n",
       "      <th>partner</th>\n",
       "      <th>dependents</th>\n",
       "      <th>tenure</th>\n",
       "      <th>phone_service</th>\n",
       "      <th>multiple_lines</th>\n",
       "      <th>online_security</th>\n",
       "      <th>online_backup</th>\n",
       "      <th>device_protection</th>\n",
       "      <th>tech_support</th>\n",
       "      <th>streaming_tv</th>\n",
       "      <th>streaming_movies</th>\n",
       "      <th>paperless_billing</th>\n",
       "      <th>monthly_charges</th>\n",
       "      <th>total_charges</th>\n",
       "      <th>churn</th>\n",
       "      <th>contract_type</th>\n",
       "      <th>internet_service_type</th>\n",
       "      <th>payment_type</th>\n",
       "    </tr>\n",
       "  </thead>\n",
       "  <tbody>\n",
       "    <tr>\n",
       "      <th>0</th>\n",
       "      <td>2</td>\n",
       "      <td>1</td>\n",
       "      <td>3</td>\n",
       "      <td>0016-QLJIS</td>\n",
       "      <td>Female</td>\n",
       "      <td>0</td>\n",
       "      <td>Yes</td>\n",
       "      <td>Yes</td>\n",
       "      <td>65</td>\n",
       "      <td>Yes</td>\n",
       "      <td>Yes</td>\n",
       "      <td>Yes</td>\n",
       "      <td>Yes</td>\n",
       "      <td>Yes</td>\n",
       "      <td>Yes</td>\n",
       "      <td>Yes</td>\n",
       "      <td>Yes</td>\n",
       "      <td>Yes</td>\n",
       "      <td>90.45</td>\n",
       "      <td>5957.9</td>\n",
       "      <td>No</td>\n",
       "      <td>Two year</td>\n",
       "      <td>DSL</td>\n",
       "      <td>Mailed check</td>\n",
       "    </tr>\n",
       "    <tr>\n",
       "      <th>1</th>\n",
       "      <td>4</td>\n",
       "      <td>1</td>\n",
       "      <td>3</td>\n",
       "      <td>0017-DINOC</td>\n",
       "      <td>Male</td>\n",
       "      <td>0</td>\n",
       "      <td>No</td>\n",
       "      <td>No</td>\n",
       "      <td>54</td>\n",
       "      <td>No</td>\n",
       "      <td>No phone service</td>\n",
       "      <td>Yes</td>\n",
       "      <td>No</td>\n",
       "      <td>No</td>\n",
       "      <td>Yes</td>\n",
       "      <td>Yes</td>\n",
       "      <td>No</td>\n",
       "      <td>No</td>\n",
       "      <td>45.20</td>\n",
       "      <td>2460.55</td>\n",
       "      <td>No</td>\n",
       "      <td>Two year</td>\n",
       "      <td>DSL</td>\n",
       "      <td>Credit card (automatic)</td>\n",
       "    </tr>\n",
       "    <tr>\n",
       "      <th>2</th>\n",
       "      <td>3</td>\n",
       "      <td>1</td>\n",
       "      <td>3</td>\n",
       "      <td>0019-GFNTW</td>\n",
       "      <td>Female</td>\n",
       "      <td>0</td>\n",
       "      <td>No</td>\n",
       "      <td>No</td>\n",
       "      <td>56</td>\n",
       "      <td>No</td>\n",
       "      <td>No phone service</td>\n",
       "      <td>Yes</td>\n",
       "      <td>Yes</td>\n",
       "      <td>Yes</td>\n",
       "      <td>Yes</td>\n",
       "      <td>No</td>\n",
       "      <td>No</td>\n",
       "      <td>No</td>\n",
       "      <td>45.05</td>\n",
       "      <td>2560.1</td>\n",
       "      <td>No</td>\n",
       "      <td>Two year</td>\n",
       "      <td>DSL</td>\n",
       "      <td>Bank transfer (automatic)</td>\n",
       "    </tr>\n",
       "    <tr>\n",
       "      <th>3</th>\n",
       "      <td>4</td>\n",
       "      <td>1</td>\n",
       "      <td>3</td>\n",
       "      <td>0056-EPFBG</td>\n",
       "      <td>Male</td>\n",
       "      <td>0</td>\n",
       "      <td>Yes</td>\n",
       "      <td>Yes</td>\n",
       "      <td>20</td>\n",
       "      <td>No</td>\n",
       "      <td>No phone service</td>\n",
       "      <td>Yes</td>\n",
       "      <td>No</td>\n",
       "      <td>Yes</td>\n",
       "      <td>Yes</td>\n",
       "      <td>No</td>\n",
       "      <td>No</td>\n",
       "      <td>Yes</td>\n",
       "      <td>39.40</td>\n",
       "      <td>825.4</td>\n",
       "      <td>No</td>\n",
       "      <td>Two year</td>\n",
       "      <td>DSL</td>\n",
       "      <td>Credit card (automatic)</td>\n",
       "    </tr>\n",
       "    <tr>\n",
       "      <th>4</th>\n",
       "      <td>3</td>\n",
       "      <td>1</td>\n",
       "      <td>3</td>\n",
       "      <td>0078-XZMHT</td>\n",
       "      <td>Male</td>\n",
       "      <td>0</td>\n",
       "      <td>Yes</td>\n",
       "      <td>No</td>\n",
       "      <td>72</td>\n",
       "      <td>Yes</td>\n",
       "      <td>Yes</td>\n",
       "      <td>No</td>\n",
       "      <td>Yes</td>\n",
       "      <td>Yes</td>\n",
       "      <td>Yes</td>\n",
       "      <td>Yes</td>\n",
       "      <td>Yes</td>\n",
       "      <td>Yes</td>\n",
       "      <td>85.15</td>\n",
       "      <td>6316.2</td>\n",
       "      <td>No</td>\n",
       "      <td>Two year</td>\n",
       "      <td>DSL</td>\n",
       "      <td>Bank transfer (automatic)</td>\n",
       "    </tr>\n",
       "  </tbody>\n",
       "</table>\n",
       "</div>"
      ],
      "text/plain": [
       "   payment_type_id  internet_service_type_id  contract_type_id customer_id  \\\n",
       "0                2                         1                 3  0016-QLJIS   \n",
       "1                4                         1                 3  0017-DINOC   \n",
       "2                3                         1                 3  0019-GFNTW   \n",
       "3                4                         1                 3  0056-EPFBG   \n",
       "4                3                         1                 3  0078-XZMHT   \n",
       "\n",
       "   gender  senior_citizen partner dependents  tenure phone_service  \\\n",
       "0  Female               0     Yes        Yes      65           Yes   \n",
       "1    Male               0      No         No      54            No   \n",
       "2  Female               0      No         No      56            No   \n",
       "3    Male               0     Yes        Yes      20            No   \n",
       "4    Male               0     Yes         No      72           Yes   \n",
       "\n",
       "     multiple_lines online_security online_backup device_protection  \\\n",
       "0               Yes             Yes           Yes               Yes   \n",
       "1  No phone service             Yes            No                No   \n",
       "2  No phone service             Yes           Yes               Yes   \n",
       "3  No phone service             Yes            No               Yes   \n",
       "4               Yes              No           Yes               Yes   \n",
       "\n",
       "  tech_support streaming_tv streaming_movies paperless_billing  \\\n",
       "0          Yes          Yes              Yes               Yes   \n",
       "1          Yes          Yes               No                No   \n",
       "2          Yes           No               No                No   \n",
       "3          Yes           No               No               Yes   \n",
       "4          Yes          Yes              Yes               Yes   \n",
       "\n",
       "   monthly_charges total_charges churn contract_type internet_service_type  \\\n",
       "0            90.45        5957.9    No      Two year                   DSL   \n",
       "1            45.20       2460.55    No      Two year                   DSL   \n",
       "2            45.05        2560.1    No      Two year                   DSL   \n",
       "3            39.40         825.4    No      Two year                   DSL   \n",
       "4            85.15        6316.2    No      Two year                   DSL   \n",
       "\n",
       "                payment_type  \n",
       "0               Mailed check  \n",
       "1    Credit card (automatic)  \n",
       "2  Bank transfer (automatic)  \n",
       "3    Credit card (automatic)  \n",
       "4  Bank transfer (automatic)  "
      ]
     },
     "execution_count": 27,
     "metadata": {},
     "output_type": "execute_result"
    }
   ],
   "source": [
    "# pull in telco data & check out what first few rows look like\n",
    "df = acquire.get_telco_data()\n",
    "df.head()"
   ]
  },
  {
   "cell_type": "markdown",
   "id": "ae460c5d",
   "metadata": {},
   "source": [
    "***"
   ]
  },
  {
   "cell_type": "markdown",
   "id": "17d2e46b",
   "metadata": {},
   "source": [
    "# Preparation"
   ]
  },
  {
   "cell_type": "code",
   "execution_count": 28,
   "id": "4dafb9cc",
   "metadata": {},
   "outputs": [
    {
     "data": {
      "text/html": [
       "<div>\n",
       "<style scoped>\n",
       "    .dataframe tbody tr th:only-of-type {\n",
       "        vertical-align: middle;\n",
       "    }\n",
       "\n",
       "    .dataframe tbody tr th {\n",
       "        vertical-align: top;\n",
       "    }\n",
       "\n",
       "    .dataframe thead th {\n",
       "        text-align: right;\n",
       "    }\n",
       "</style>\n",
       "<table border=\"1\" class=\"dataframe\">\n",
       "  <thead>\n",
       "    <tr style=\"text-align: right;\">\n",
       "      <th></th>\n",
       "      <th>customer_id</th>\n",
       "      <th>senior_citizen</th>\n",
       "      <th>tenure</th>\n",
       "      <th>multiple_lines</th>\n",
       "      <th>monthly_charges</th>\n",
       "      <th>total_charges</th>\n",
       "      <th>contract_type</th>\n",
       "      <th>internet_service_type</th>\n",
       "      <th>payment_type</th>\n",
       "      <th>is_male</th>\n",
       "      <th>has_partner</th>\n",
       "      <th>has_dependents</th>\n",
       "      <th>online_security</th>\n",
       "      <th>online_backup</th>\n",
       "      <th>device_protection</th>\n",
       "      <th>tech_support</th>\n",
       "      <th>streaming_tv</th>\n",
       "      <th>streaming_movies</th>\n",
       "      <th>paperless_billing</th>\n",
       "      <th>churn</th>\n",
       "      <th>one_line</th>\n",
       "      <th>no_phone_service</th>\n",
       "      <th>has_multiple_lines</th>\n",
       "      <th>month_to_month_contract</th>\n",
       "      <th>one_year_contract</th>\n",
       "      <th>two_year_contract</th>\n",
       "      <th>dsl_internet</th>\n",
       "      <th>fiber_optic_internet</th>\n",
       "      <th>no_internet_service</th>\n",
       "      <th>bank_transfer_payment_automatic</th>\n",
       "      <th>credit_card_payment_automatic</th>\n",
       "      <th>electronic_check_payment</th>\n",
       "      <th>mailed_check_payment</th>\n",
       "    </tr>\n",
       "  </thead>\n",
       "  <tbody>\n",
       "    <tr>\n",
       "      <th>1196</th>\n",
       "      <td>9968-FFVVH</td>\n",
       "      <td>0</td>\n",
       "      <td>63</td>\n",
       "      <td>Yes</td>\n",
       "      <td>68.80</td>\n",
       "      <td>4111.35</td>\n",
       "      <td>One year</td>\n",
       "      <td>DSL</td>\n",
       "      <td>Bank transfer (automatic)</td>\n",
       "      <td>1</td>\n",
       "      <td>0</td>\n",
       "      <td>0</td>\n",
       "      <td>1</td>\n",
       "      <td>1</td>\n",
       "      <td>1</td>\n",
       "      <td>1</td>\n",
       "      <td>0</td>\n",
       "      <td>0</td>\n",
       "      <td>0</td>\n",
       "      <td>0</td>\n",
       "      <td>0</td>\n",
       "      <td>0</td>\n",
       "      <td>1</td>\n",
       "      <td>0</td>\n",
       "      <td>1</td>\n",
       "      <td>0</td>\n",
       "      <td>1</td>\n",
       "      <td>0</td>\n",
       "      <td>0</td>\n",
       "      <td>1</td>\n",
       "      <td>0</td>\n",
       "      <td>0</td>\n",
       "      <td>0</td>\n",
       "    </tr>\n",
       "    <tr>\n",
       "      <th>4239</th>\n",
       "      <td>3956-CJUST</td>\n",
       "      <td>1</td>\n",
       "      <td>23</td>\n",
       "      <td>No</td>\n",
       "      <td>75.40</td>\n",
       "      <td>1643.55</td>\n",
       "      <td>Month-to-month</td>\n",
       "      <td>Fiber optic</td>\n",
       "      <td>Bank transfer (automatic)</td>\n",
       "      <td>0</td>\n",
       "      <td>0</td>\n",
       "      <td>0</td>\n",
       "      <td>1</td>\n",
       "      <td>0</td>\n",
       "      <td>0</td>\n",
       "      <td>0</td>\n",
       "      <td>0</td>\n",
       "      <td>0</td>\n",
       "      <td>1</td>\n",
       "      <td>0</td>\n",
       "      <td>1</td>\n",
       "      <td>0</td>\n",
       "      <td>0</td>\n",
       "      <td>1</td>\n",
       "      <td>0</td>\n",
       "      <td>0</td>\n",
       "      <td>0</td>\n",
       "      <td>1</td>\n",
       "      <td>0</td>\n",
       "      <td>1</td>\n",
       "      <td>0</td>\n",
       "      <td>0</td>\n",
       "      <td>0</td>\n",
       "    </tr>\n",
       "    <tr>\n",
       "      <th>846</th>\n",
       "      <td>3941-XTSKM</td>\n",
       "      <td>0</td>\n",
       "      <td>42</td>\n",
       "      <td>No phone service</td>\n",
       "      <td>45.10</td>\n",
       "      <td>2049.05</td>\n",
       "      <td>One year</td>\n",
       "      <td>DSL</td>\n",
       "      <td>Credit card (automatic)</td>\n",
       "      <td>1</td>\n",
       "      <td>1</td>\n",
       "      <td>1</td>\n",
       "      <td>0</td>\n",
       "      <td>1</td>\n",
       "      <td>1</td>\n",
       "      <td>0</td>\n",
       "      <td>0</td>\n",
       "      <td>1</td>\n",
       "      <td>1</td>\n",
       "      <td>0</td>\n",
       "      <td>0</td>\n",
       "      <td>1</td>\n",
       "      <td>0</td>\n",
       "      <td>0</td>\n",
       "      <td>1</td>\n",
       "      <td>0</td>\n",
       "      <td>1</td>\n",
       "      <td>0</td>\n",
       "      <td>0</td>\n",
       "      <td>0</td>\n",
       "      <td>1</td>\n",
       "      <td>0</td>\n",
       "      <td>0</td>\n",
       "    </tr>\n",
       "    <tr>\n",
       "      <th>6014</th>\n",
       "      <td>7717-BICXI</td>\n",
       "      <td>0</td>\n",
       "      <td>60</td>\n",
       "      <td>No</td>\n",
       "      <td>20.55</td>\n",
       "      <td>1205.05</td>\n",
       "      <td>Two year</td>\n",
       "      <td>None</td>\n",
       "      <td>Mailed check</td>\n",
       "      <td>1</td>\n",
       "      <td>1</td>\n",
       "      <td>1</td>\n",
       "      <td>0</td>\n",
       "      <td>0</td>\n",
       "      <td>0</td>\n",
       "      <td>0</td>\n",
       "      <td>0</td>\n",
       "      <td>0</td>\n",
       "      <td>0</td>\n",
       "      <td>0</td>\n",
       "      <td>1</td>\n",
       "      <td>0</td>\n",
       "      <td>0</td>\n",
       "      <td>0</td>\n",
       "      <td>0</td>\n",
       "      <td>1</td>\n",
       "      <td>0</td>\n",
       "      <td>0</td>\n",
       "      <td>1</td>\n",
       "      <td>0</td>\n",
       "      <td>0</td>\n",
       "      <td>0</td>\n",
       "      <td>1</td>\n",
       "    </tr>\n",
       "    <tr>\n",
       "      <th>6667</th>\n",
       "      <td>2692-PFYTJ</td>\n",
       "      <td>0</td>\n",
       "      <td>1</td>\n",
       "      <td>Yes</td>\n",
       "      <td>25.75</td>\n",
       "      <td>25.75</td>\n",
       "      <td>Month-to-month</td>\n",
       "      <td>None</td>\n",
       "      <td>Mailed check</td>\n",
       "      <td>0</td>\n",
       "      <td>0</td>\n",
       "      <td>0</td>\n",
       "      <td>0</td>\n",
       "      <td>0</td>\n",
       "      <td>0</td>\n",
       "      <td>0</td>\n",
       "      <td>0</td>\n",
       "      <td>0</td>\n",
       "      <td>1</td>\n",
       "      <td>0</td>\n",
       "      <td>0</td>\n",
       "      <td>0</td>\n",
       "      <td>1</td>\n",
       "      <td>1</td>\n",
       "      <td>0</td>\n",
       "      <td>0</td>\n",
       "      <td>0</td>\n",
       "      <td>0</td>\n",
       "      <td>1</td>\n",
       "      <td>0</td>\n",
       "      <td>0</td>\n",
       "      <td>0</td>\n",
       "      <td>1</td>\n",
       "    </tr>\n",
       "  </tbody>\n",
       "</table>\n",
       "</div>"
      ],
      "text/plain": [
       "     customer_id  senior_citizen  tenure    multiple_lines  monthly_charges  \\\n",
       "1196  9968-FFVVH               0      63               Yes            68.80   \n",
       "4239  3956-CJUST               1      23                No            75.40   \n",
       "846   3941-XTSKM               0      42  No phone service            45.10   \n",
       "6014  7717-BICXI               0      60                No            20.55   \n",
       "6667  2692-PFYTJ               0       1               Yes            25.75   \n",
       "\n",
       "      total_charges   contract_type internet_service_type  \\\n",
       "1196        4111.35        One year                   DSL   \n",
       "4239        1643.55  Month-to-month           Fiber optic   \n",
       "846         2049.05        One year                   DSL   \n",
       "6014        1205.05        Two year                  None   \n",
       "6667          25.75  Month-to-month                  None   \n",
       "\n",
       "                   payment_type  is_male  has_partner  has_dependents  \\\n",
       "1196  Bank transfer (automatic)        1            0               0   \n",
       "4239  Bank transfer (automatic)        0            0               0   \n",
       "846     Credit card (automatic)        1            1               1   \n",
       "6014               Mailed check        1            1               1   \n",
       "6667               Mailed check        0            0               0   \n",
       "\n",
       "      online_security  online_backup  device_protection  tech_support  \\\n",
       "1196                1              1                  1             1   \n",
       "4239                1              0                  0             0   \n",
       "846                 0              1                  1             0   \n",
       "6014                0              0                  0             0   \n",
       "6667                0              0                  0             0   \n",
       "\n",
       "      streaming_tv  streaming_movies  paperless_billing  churn  one_line  \\\n",
       "1196             0                 0                  0      0         0   \n",
       "4239             0                 0                  1      0         1   \n",
       "846              0                 1                  1      0         0   \n",
       "6014             0                 0                  0      0         1   \n",
       "6667             0                 0                  1      0         0   \n",
       "\n",
       "      no_phone_service  has_multiple_lines  month_to_month_contract  \\\n",
       "1196                 0                   1                        0   \n",
       "4239                 0                   0                        1   \n",
       "846                  1                   0                        0   \n",
       "6014                 0                   0                        0   \n",
       "6667                 0                   1                        1   \n",
       "\n",
       "      one_year_contract  two_year_contract  dsl_internet  \\\n",
       "1196                  1                  0             1   \n",
       "4239                  0                  0             0   \n",
       "846                   1                  0             1   \n",
       "6014                  0                  1             0   \n",
       "6667                  0                  0             0   \n",
       "\n",
       "      fiber_optic_internet  no_internet_service  \\\n",
       "1196                     0                    0   \n",
       "4239                     1                    0   \n",
       "846                      0                    0   \n",
       "6014                     0                    1   \n",
       "6667                     0                    1   \n",
       "\n",
       "      bank_transfer_payment_automatic  credit_card_payment_automatic  \\\n",
       "1196                                1                              0   \n",
       "4239                                1                              0   \n",
       "846                                 0                              1   \n",
       "6014                                0                              0   \n",
       "6667                                0                              0   \n",
       "\n",
       "      electronic_check_payment  mailed_check_payment  \n",
       "1196                         0                     0  \n",
       "4239                         0                     0  \n",
       "846                          0                     0  \n",
       "6014                         0                     1  \n",
       "6667                         0                     1  "
      ]
     },
     "execution_count": 28,
     "metadata": {},
     "output_type": "execute_result"
    }
   ],
   "source": [
    "train, validate, test = prepare.prep_telco_data(df)\n",
    "train.head()"
   ]
  },
  {
   "cell_type": "markdown",
   "id": "f1e4065a",
   "metadata": {},
   "source": [
    "**Steps taken to prepare the data:**\n",
    "\n",
    "- Checked column names, data types, dataframe shape, null values, statistical information, and value counts\n",
    "\n",
    "- Changed data type for total charges to float\n",
    "\n",
    "- Dropped rows for customers with less than a month of service therefore no opportunity to churn\n",
    "\n",
    "- Replaced all instances of 'No internet service' as that information is duplicated in another column\n",
    "\n",
    "- Created dummy variables for columns with object data type\n",
    "\n",
    "- Dropped columns that were duplicated by creating dummy variables or unnecessary \n",
    "\n",
    "- Used histograms to check out distribution of numerical columns\n",
    "\n",
    "- Created functions to clean and split the data"
   ]
  },
  {
   "cell_type": "markdown",
   "id": "272f5c25",
   "metadata": {},
   "source": [
    "***"
   ]
  },
  {
   "cell_type": "markdown",
   "id": "729f8f35",
   "metadata": {},
   "source": [
    "# Exploration"
   ]
  },
  {
   "cell_type": "code",
   "execution_count": 29,
   "id": "090c81b4",
   "metadata": {
    "scrolled": false
   },
   "outputs": [
    {
     "data": {
      "text/plain": [
       "<AxesSubplot:>"
      ]
     },
     "execution_count": 29,
     "metadata": {},
     "output_type": "execute_result"
    },
    {
     "data": {
      "image/png": "[encoded data removed]",
      "text/plain": [
       "<Figure size 432x288 with 1 Axes>"
      ]
     },
     "metadata": {
      "needs_background": "light"
     },
     "output_type": "display_data"
    }
   ],
   "source": [
    "train.corr()['churn'].sort_values().plot(kind='bar')"
   ]
  },
  {
   "cell_type": "markdown",
   "id": "a965c90b",
   "metadata": {},
   "source": [
    "## 1. Do customers with month-to-month contracts churn more than other contract types?"
   ]
  },
  {
   "cell_type": "code",
   "execution_count": 30,
   "id": "85202d73",
   "metadata": {},
   "outputs": [
    {
     "data": {
      "text/plain": [
       "Text(0, 0.5, 'Number of Customers')"
      ]
     },
     "execution_count": 30,
     "metadata": {},
     "output_type": "execute_result"
    },
    {
     "data": {
      "image/png": "[encoded data removed]",
      "text/plain": [
       "<Figure size 720x576 with 1 Axes>"
      ]
     },
     "metadata": {
      "needs_background": "light"
     },
     "output_type": "display_data"
    }
   ],
   "source": [
    "# plot visualization of number of customers churned/not churned by contract type\n",
    "plt.figure(figsize=(10,8))\n",
    "sns.countplot(x='contract_type', hue='churn', palette='deep', data=train)\n",
    "plt.title('Month-to-Month Customers Churn At Higher Rates', fontsize=18)\n",
    "plt.legend(labels=['Has Not Churned','Has Churned'])\n",
    "plt.xlabel('Contract Type')\n",
    "plt.ylabel('Number of Customers')"
   ]
  },
  {
   "cell_type": "markdown",
   "id": "c5f6f81c",
   "metadata": {},
   "source": [
    "## Month-to-month customers churn at almost 5x the rate of those with contracts"
   ]
  },
  {
   "cell_type": "markdown",
   "id": "121edfbb",
   "metadata": {},
   "source": [
    "***"
   ]
  },
  {
   "cell_type": "markdown",
   "id": "40423c25",
   "metadata": {},
   "source": [
    "## 2. Is there a tenure length where customers are more likely to churn?"
   ]
  },
  {
   "cell_type": "code",
   "execution_count": 31,
   "id": "be11a0f8",
   "metadata": {},
   "outputs": [
    {
     "data": {
      "text/plain": [
       "<matplotlib.lines.Line2D at 0x7f88c80eb5e0>"
      ]
     },
     "execution_count": 31,
     "metadata": {},
     "output_type": "execute_result"
    },
    {
     "data": {
      "image/png": "[encoded data removed]",
      "text/plain": [
       "<Figure size 692.75x576 with 1 Axes>"
      ]
     },
     "metadata": {
      "needs_background": "light"
     },
     "output_type": "display_data"
    }
   ],
   "source": [
    "# plot visualization of relationship of amount of customers churned across different lengths of tenure\n",
    "sns.catplot(x='churn', y='tenure', \n",
    "            kind='swarm', hue='contract_type', \n",
    "            palette='deep', size=8, aspect=1,\n",
    "            data=train[train.churn==1])\n",
    "\n",
    "plt.title('Many Customers Churn Within A Year Of Starting Telco Services', fontsize=18)\n",
    "plt.xlabel('Has Churned')\n",
    "plt.ylabel('Months of Tenure')\n",
    "plt.xticks([1], ['Has Churned'])\n",
    "plt.axhline(y=12)"
   ]
  },
  {
   "cell_type": "markdown",
   "id": "e86340f2",
   "metadata": {},
   "source": [
    "## The largest portion of customers who churn do so within the first 6 months"
   ]
  },
  {
   "cell_type": "markdown",
   "id": "cc1d0ae8",
   "metadata": {},
   "source": [
    "***"
   ]
  },
  {
   "cell_type": "markdown",
   "id": "16f58a57",
   "metadata": {},
   "source": [
    "## 3. Is a specific internet service type associated with higher churn rates?"
   ]
  },
  {
   "cell_type": "code",
   "execution_count": 32,
   "id": "c6fe0e7a",
   "metadata": {
    "scrolled": false
   },
   "outputs": [
    {
     "data": {
      "text/plain": [
       "Text(0, 0.5, 'Number of Customers')"
      ]
     },
     "execution_count": 32,
     "metadata": {},
     "output_type": "execute_result"
    },
    {
     "data": {
      "image/png": "[encoded data removed]",
      "text/plain": [
       "<Figure size 720x576 with 1 Axes>"
      ]
     },
     "metadata": {
      "needs_background": "light"
     },
     "output_type": "display_data"
    }
   ],
   "source": [
    "# plot visualization of number of customers churned/not churned by internet service type\n",
    "plt.figure(figsize=(10,8))\n",
    "sns.countplot(x='internet_service_type', hue='churn', palette='deep', data=train)\n",
    "plt.title('Fiber Optic Customers Are More Likely To Churn', fontsize=18)\n",
    "plt.legend(labels=['Has Not Churned','Has Churned'])\n",
    "plt.xlabel('Internet Service Type')\n",
    "plt.ylabel('Number of Customers')"
   ]
  },
  {
   "cell_type": "markdown",
   "id": "10d02bd8",
   "metadata": {},
   "source": [
    "**Hypothesis testing to see if this is statistically significant:**\n",
    "\n",
    "**Null Hypothesis: Fiber optic customers are just as likely or less likely to churn than those with DSL or no internet.**\n",
    "\n",
    "**Null Hypothesis: Fiber optic customers are more likely to churn than those with DSL or no internet.**"
   ]
  },
  {
   "cell_type": "code",
   "execution_count": 33,
   "id": "3adf0143",
   "metadata": {},
   "outputs": [
    {
     "name": "stdout",
     "output_type": "stream",
     "text": [
      "1.5412855944468989e-89\n",
      "We reject the null hypothesis\n"
     ]
    }
   ],
   "source": [
    "# conduct hypothesis testing to evaluate the relationship between churn and internet service type\n",
    "alpha = 0.05\n",
    "\n",
    "observed = pd.crosstab(train.churn, train.internet_service_type)\n",
    "chi2, p, degf, expected = stats.chi2_contingency(observed)\n",
    "\n",
    "print(p)\n",
    "if p < alpha:\n",
    "      print('We reject the null hypothesis')\n",
    "else:\n",
    "    print('We fail to reject the null hypothesis')"
   ]
  },
  {
   "cell_type": "markdown",
   "id": "533bd967",
   "metadata": {},
   "source": [
    "## Both the chart and test show that fiber optic customers are more likely to churn."
   ]
  },
  {
   "cell_type": "markdown",
   "id": "f15f3c8a",
   "metadata": {},
   "source": [
    "***"
   ]
  },
  {
   "cell_type": "markdown",
   "id": "d77a4630",
   "metadata": {},
   "source": [
    "## 4. Is it higher monthly charges that are causing churn?"
   ]
  },
  {
   "cell_type": "code",
   "execution_count": 34,
   "id": "2311bf80",
   "metadata": {},
   "outputs": [
    {
     "data": {
      "text/plain": [
       "([<matplotlib.axis.XTick at 0x7f8929a9efd0>,\n",
       "  <matplotlib.axis.XTick at 0x7f8929a9efa0>],\n",
       " [Text(0, 0, 'No'), Text(1, 0, 'Yes')])"
      ]
     },
     "execution_count": 34,
     "metadata": {},
     "output_type": "execute_result"
    },
    {
     "data": {
      "image/png": "[encoded data removed]",
      "text/plain": [
       "<Figure size 720x576 with 1 Axes>"
      ]
     },
     "metadata": {
      "needs_background": "light"
     },
     "output_type": "display_data"
    }
   ],
   "source": [
    "# plot visualization of distribution of monthly charges for those who have churned vs those who have not churned\n",
    "plt.figure(figsize=(10,8))\n",
    "sns.boxplot(x=train.churn, y=train.monthly_charges, data=train , palette='deep')\n",
    "plt.title('Avg Monthly Charges Are Higher For Customers Who Churn', fontsize=18)\n",
    "plt.xlabel('Has Churned')\n",
    "plt.ylabel('Monthly Charges ($)')\n",
    "plt.xticks([0, 1], ['No','Yes'])"
   ]
  },
  {
   "cell_type": "markdown",
   "id": "b7c01cbb",
   "metadata": {},
   "source": [
    "**Hypothesis testing using one-sample, one-tail t-test to see if this is statistically significant:**\n",
    "\n",
    "Because sample size is >500, the central limit theorum tells us that we can assume normal distribution\n",
    "\n",
    "**Null Hypothesis: Monthly charges for customers who have churned are equal or less than those for customers who have not churned**\n",
    "\n",
    "**Alternate Hypothesis: Monthly charges for customers who have churned are more than those for customers who have not churned**"
   ]
  },
  {
   "cell_type": "code",
   "execution_count": 35,
   "id": "c6c04078",
   "metadata": {},
   "outputs": [
    {
     "name": "stdout",
     "output_type": "stream",
     "text": [
      "We reject the null hypothesis\n"
     ]
    }
   ],
   "source": [
    "# conduct hypothesis testing to evaluate the relationship between churn and monthly charges\n",
    "alpha = 0.05\n",
    "churn_subset = train[train.churn==1].monthly_charges\n",
    "mean_charges = train.monthly_charges.mean()\n",
    "\n",
    "t, p = stats.ttest_1samp(churn_subset, mean_charges)\n",
    "\n",
    "if p/2 > alpha:\n",
    "    print('We fail to reject the null hypothesis')\n",
    "elif t < 0:\n",
    "    print('We fail to reject the null hypothesis')\n",
    "else:\n",
    "    print('We reject the null hypothesis')"
   ]
  },
  {
   "cell_type": "markdown",
   "id": "8d710534",
   "metadata": {},
   "source": [
    "## Both the chart and test show that churn is associated with higher monthly charges."
   ]
  },
  {
   "cell_type": "markdown",
   "id": "1494dbbd",
   "metadata": {},
   "source": [
    "***"
   ]
  },
  {
   "cell_type": "markdown",
   "id": "133a9134",
   "metadata": {},
   "source": [
    "## Exploration Summary\n",
    "\n",
    "\n",
    "**- Month-to-month contracts and having fiber optic internet service are both correlated with higher rates of churn**\n",
    "\n",
    "**- Higher monthly charges are also seen with customers who have churned**\n",
    "\n",
    "**- Key takeaway is that customers are unhappy with the higher prices associated with fiber optic service and/or the quality of fiber optic service**\n",
    "\n",
    "**- Going forward these features will be key to identifying customers with an increased risk of churning in order to target them with incentivized offers for their loyalty**\n",
    "\n",
    "**- Features that will be used in modeling because of their correlation with churn are:** \n",
    "\n",
    "*tenure, monthly_charges, paperless_billing, churn, month_to_month_contract, one_year_contract, two_year_contract, dsl_internet, fiber_optic_internet, no_internet_service*\n",
    "       \n",
    "**- Features that will not be used in modeling because of their limited correlation with churn or because already represented with dummy variables are:** \n",
    "\n",
    "*senior_citizen, multiple_lines, total_charges, contract_type, internet_service_type, payment_type, is_male, has_partner, has_dependents, online_security, online_backup, device_protection, tech_support, streaming_tv, streaming_movies, one_line, no_phone_service, has_multiple_lines, bank_transfer_payment_automatic, credit_card_payment_automatic, electronic_check_payment, mailed_check_payment*"
   ]
  },
  {
   "cell_type": "markdown",
   "id": "65d49351",
   "metadata": {},
   "source": [
    "***"
   ]
  },
  {
   "cell_type": "markdown",
   "id": "eac32f95",
   "metadata": {},
   "source": [
    "# Modeling"
   ]
  },
  {
   "cell_type": "code",
   "execution_count": 36,
   "id": "6e24da18",
   "metadata": {
    "scrolled": true
   },
   "outputs": [
    {
     "data": {
      "text/plain": [
       "0    2891\n",
       "1    1046\n",
       "Name: churn, dtype: int64"
      ]
     },
     "execution_count": 36,
     "metadata": {},
     "output_type": "execute_result"
    }
   ],
   "source": [
    "# checking most common value for churn\n",
    "train.churn.value_counts()"
   ]
  },
  {
   "cell_type": "code",
   "execution_count": 37,
   "id": "c9d991f0",
   "metadata": {},
   "outputs": [
    {
     "data": {
      "text/plain": [
       "0.73"
      ]
     },
     "execution_count": 37,
     "metadata": {},
     "output_type": "execute_result"
    }
   ],
   "source": [
    "# calculate baseline accuracy\n",
    "baseline_accuracy = round((train.churn == 0).mean(), 2)\n",
    "baseline_accuracy"
   ]
  },
  {
   "cell_type": "markdown",
   "id": "1d20fac5",
   "metadata": {},
   "source": [
    "**Baseline accuracy is 73% which is what a model must beat to provide value**"
   ]
  },
  {
   "cell_type": "code",
   "execution_count": 38,
   "id": "c22dcb6c",
   "metadata": {},
   "outputs": [],
   "source": [
    "# drop features determined in the explore phase to not have much correlation with churn\n",
    "cols_to_drop = ['customer_id','senior_citizen', 'multiple_lines', 'total_charges', 'contract_type', 'internet_service_type', 'payment_type', 'is_male', 'has_partner', 'has_dependents', 'online_security', 'online_backup', 'device_protection', 'tech_support', 'streaming_tv', 'streaming_movies', 'one_line', 'no_phone_service', 'has_multiple_lines', 'bank_transfer_payment_automatic', 'credit_card_payment_automatic', 'electronic_check_payment', 'mailed_check_payment', 'churn']\n",
    "\n",
    "# create X and y version of train, validate, and test\n",
    "X_train = train.drop(columns=cols_to_drop)\n",
    "y_train = train.churn\n",
    "\n",
    "X_validate = validate.drop(columns=cols_to_drop)\n",
    "y_validate = validate.churn\n",
    "\n",
    "X_test = test.drop(columns=cols_to_drop)\n",
    "y_test = test.churn"
   ]
  },
  {
   "cell_type": "code",
   "execution_count": 39,
   "id": "8ab70c54",
   "metadata": {},
   "outputs": [
    {
     "data": {
      "text/plain": [
       "((3937, 9), (1688, 9), (1407, 9))"
      ]
     },
     "execution_count": 39,
     "metadata": {},
     "output_type": "execute_result"
    }
   ],
   "source": [
    "# check shape of each to confirm changes were made\n",
    "X_train.shape, X_validate.shape, X_test.shape"
   ]
  },
  {
   "cell_type": "code",
   "execution_count": 40,
   "id": "232a03e2",
   "metadata": {},
   "outputs": [
    {
     "data": {
      "text/html": [
       "<div>\n",
       "<style scoped>\n",
       "    .dataframe tbody tr th:only-of-type {\n",
       "        vertical-align: middle;\n",
       "    }\n",
       "\n",
       "    .dataframe tbody tr th {\n",
       "        vertical-align: top;\n",
       "    }\n",
       "\n",
       "    .dataframe thead th {\n",
       "        text-align: right;\n",
       "    }\n",
       "</style>\n",
       "<table border=\"1\" class=\"dataframe\">\n",
       "  <thead>\n",
       "    <tr style=\"text-align: right;\">\n",
       "      <th></th>\n",
       "      <th>tenure</th>\n",
       "      <th>monthly_charges</th>\n",
       "      <th>paperless_billing</th>\n",
       "      <th>month_to_month_contract</th>\n",
       "      <th>one_year_contract</th>\n",
       "      <th>two_year_contract</th>\n",
       "      <th>dsl_internet</th>\n",
       "      <th>fiber_optic_internet</th>\n",
       "      <th>no_internet_service</th>\n",
       "    </tr>\n",
       "  </thead>\n",
       "  <tbody>\n",
       "    <tr>\n",
       "      <th>1196</th>\n",
       "      <td>63</td>\n",
       "      <td>68.80</td>\n",
       "      <td>0</td>\n",
       "      <td>0</td>\n",
       "      <td>1</td>\n",
       "      <td>0</td>\n",
       "      <td>1</td>\n",
       "      <td>0</td>\n",
       "      <td>0</td>\n",
       "    </tr>\n",
       "    <tr>\n",
       "      <th>4239</th>\n",
       "      <td>23</td>\n",
       "      <td>75.40</td>\n",
       "      <td>1</td>\n",
       "      <td>1</td>\n",
       "      <td>0</td>\n",
       "      <td>0</td>\n",
       "      <td>0</td>\n",
       "      <td>1</td>\n",
       "      <td>0</td>\n",
       "    </tr>\n",
       "    <tr>\n",
       "      <th>846</th>\n",
       "      <td>42</td>\n",
       "      <td>45.10</td>\n",
       "      <td>1</td>\n",
       "      <td>0</td>\n",
       "      <td>1</td>\n",
       "      <td>0</td>\n",
       "      <td>1</td>\n",
       "      <td>0</td>\n",
       "      <td>0</td>\n",
       "    </tr>\n",
       "    <tr>\n",
       "      <th>6014</th>\n",
       "      <td>60</td>\n",
       "      <td>20.55</td>\n",
       "      <td>0</td>\n",
       "      <td>0</td>\n",
       "      <td>0</td>\n",
       "      <td>1</td>\n",
       "      <td>0</td>\n",
       "      <td>0</td>\n",
       "      <td>1</td>\n",
       "    </tr>\n",
       "    <tr>\n",
       "      <th>6667</th>\n",
       "      <td>1</td>\n",
       "      <td>25.75</td>\n",
       "      <td>1</td>\n",
       "      <td>1</td>\n",
       "      <td>0</td>\n",
       "      <td>0</td>\n",
       "      <td>0</td>\n",
       "      <td>0</td>\n",
       "      <td>1</td>\n",
       "    </tr>\n",
       "  </tbody>\n",
       "</table>\n",
       "</div>"
      ],
      "text/plain": [
       "      tenure  monthly_charges  paperless_billing  month_to_month_contract  \\\n",
       "1196      63            68.80                  0                        0   \n",
       "4239      23            75.40                  1                        1   \n",
       "846       42            45.10                  1                        0   \n",
       "6014      60            20.55                  0                        0   \n",
       "6667       1            25.75                  1                        1   \n",
       "\n",
       "      one_year_contract  two_year_contract  dsl_internet  \\\n",
       "1196                  1                  0             1   \n",
       "4239                  0                  0             0   \n",
       "846                   1                  0             1   \n",
       "6014                  0                  1             0   \n",
       "6667                  0                  0             0   \n",
       "\n",
       "      fiber_optic_internet  no_internet_service  \n",
       "1196                     0                    0  \n",
       "4239                     1                    0  \n",
       "846                      0                    0  \n",
       "6014                     0                    1  \n",
       "6667                     0                    1  "
      ]
     },
     "execution_count": 40,
     "metadata": {},
     "output_type": "execute_result"
    }
   ],
   "source": [
    "# check first few rows of X_train\n",
    "X_train.head()"
   ]
  },
  {
   "cell_type": "code",
   "execution_count": 41,
   "id": "5254c575",
   "metadata": {},
   "outputs": [
    {
     "name": "stdout",
     "output_type": "stream",
     "text": [
      "train_accuracy: 0.8166116332232665\n",
      "validate_accuracy: 0.7968009478672986\n"
     ]
    }
   ],
   "source": [
    "# Evaluate Random Forest model on train & validate set\n",
    "\n",
    "# define the model setting hyperparameters to values for current loop\n",
    "forest = RandomForestClassifier(max_depth=8, min_samples_leaf=8, random_state=369)\n",
    "\n",
    "# fit the model on train\n",
    "forest = forest.fit(X_train, y_train)\n",
    "\n",
    "# use the model and evaluate performance on train\n",
    "train_accuracy = forest.score(X_train, y_train)\n",
    "# use the model and evaluate performance on validate\n",
    "validate_accuracy = forest.score(X_validate, y_validate)\n",
    "\n",
    "print(f'train_accuracy: {train_accuracy}')\n",
    "print(f'validate_accuracy: {validate_accuracy}')"
   ]
  },
  {
   "cell_type": "code",
   "execution_count": 42,
   "id": "94e633f7",
   "metadata": {},
   "outputs": [
    {
     "name": "stdout",
     "output_type": "stream",
     "text": [
      "train_accuracy: 0.8186436372872746\n",
      "validate_accuracy: 0.7902843601895735\n"
     ]
    }
   ],
   "source": [
    "# Evaluate KNearest Neighbors model on train & validate set\n",
    "            \n",
    "# define the model setting hyperparameter to 6\n",
    "knn = KNeighborsClassifier(n_neighbors=6)\n",
    "    \n",
    "# fit the model on train\n",
    "knn.fit(X_train, y_train)\n",
    "    \n",
    "# use the model and evaluate performance on train\n",
    "train_accuracy = knn.score(X_train, y_train)\n",
    "# use the model and evaluate performance on validate\n",
    "validate_accuracy = knn.score(X_validate, y_validate)\n",
    "    \n",
    "print(f'train_accuracy: {train_accuracy}')\n",
    "print(f'validate_accuracy: {validate_accuracy}')"
   ]
  },
  {
   "cell_type": "code",
   "execution_count": 43,
   "id": "7b1f310e",
   "metadata": {},
   "outputs": [
    {
     "name": "stdout",
     "output_type": "stream",
     "text": [
      "train_accuracy: 0.7907035814071628\n",
      "validate_accuracy: 0.7908767772511849\n"
     ]
    }
   ],
   "source": [
    "# Evaluate Logistic Regression model on train & validate set\n",
    "            \n",
    "# define the model setting hyperparameters to 10\n",
    "logit = LogisticRegression(C=10)\n",
    "    \n",
    "# fit the model on train\n",
    "logit.fit(X_train, y_train)\n",
    "    \n",
    "# use the model and evaluate performance on train\n",
    "train_accuracy = logit.score(X_train, y_train)\n",
    "# use the model and evaluate performance on validate\n",
    "validate_accuracy = logit.score(X_validate, y_validate)\n",
    "    \n",
    "print(f'train_accuracy: {train_accuracy}')\n",
    "print(f'validate_accuracy: {validate_accuracy}')"
   ]
  },
  {
   "cell_type": "markdown",
   "id": "0c15c361",
   "metadata": {},
   "source": [
    "**- The random forest models proved to be the most accurate for this dataset although the k-nearest neighbors and logistic regression models were pretty close**\n",
    "\n",
    "**- The random forest model selected for use on the test dataset is one with the max_depth and min_samples_leaf set to *. This was chosen for its high accuracy but with reduced likelihood of overfitting.**"
   ]
  },
  {
   "cell_type": "code",
   "execution_count": 44,
   "id": "d23dfa0f",
   "metadata": {},
   "outputs": [
    {
     "name": "stdout",
     "output_type": "stream",
     "text": [
      "Test accuracy = 0.8002842928216063\n"
     ]
    }
   ],
   "source": [
    "# use the model and evaluate performance on test\n",
    "print(f'Test accuracy = {forest.score(X_test, y_test)}')"
   ]
  },
  {
   "cell_type": "markdown",
   "id": "4837365c",
   "metadata": {},
   "source": [
    "**Test accuracy for this model is 80%, 7% higher than the baseline**"
   ]
  },
  {
   "cell_type": "markdown",
   "id": "4ad7a3b4",
   "metadata": {},
   "source": [
    "***"
   ]
  },
  {
   "cell_type": "markdown",
   "id": "a6a105de",
   "metadata": {},
   "source": [
    "# Conclusion\n",
    "\n",
    "\n",
    "## Summary\n",
    "\n",
    "Goals of this project were:\n",
    "\n",
    "- To identify drivers of customer churn and find a solution for increasing customer retention\n",
    "\n",
    "- To construct a model that accurately predicts which customers are most likely to churn to focus retention efforts\n",
    "\n",
    "We identified some of the main drivers of churn as:\n",
    "\n",
    "- Month-to-month contract\n",
    "\n",
    "- Fiber optic internet service\n",
    "\n",
    "- Higher monthly prices\n",
    "\n",
    "We built a model that is expected to perform with about 80% accuracy on unseen data which will help with targeted efforts to improve customer retention.\n",
    "\n",
    "\n",
    "## Recommendations\n",
    "\n",
    "- Reduce monthly price for fiber optic internet service \n",
    "\n",
    "- Send out quarterly customer satisfaction surveys for better insights\n",
    "\n",
    "\n",
    "## Next Steps\n",
    "\n",
    "- With more time and resources, would like to collect and explore customer satisfaction data"
   ]
  },
  {
   "cell_type": "code",
   "execution_count": null,
   "id": "bf27f8da",
   "metadata": {},
   "outputs": [],
   "source": []
  }
 ],
 "metadata": {
  "kernelspec": {
   "display_name": "Python 3",
   "language": "python",
   "name": "python3"
  },
  "language_info": {
   "codemirror_mode": {
    "name": "ipython",
    "version": 3
   },
   "file_extension": ".py",
   "mimetype": "text/x-python",
   "name": "python",
   "nbconvert_exporter": "python",
   "pygments_lexer": "ipython3",
   "version": "3.8.8"
  }
 },
 "nbformat": 4,
 "nbformat_minor": 5
}
