{
 "cells": [
  {
   "cell_type": "code",
   "execution_count": 1,
   "id": "11eea342",
   "metadata": {},
   "outputs": [],
   "source": [
    "# imports\n",
    "import pandas as pd\n",
    "import numpy as np\n",
    "import matplotlib.pyplot as plt\n",
    "import seaborn as sns\n",
    "from sklearn.model_selection import train_test_split\n",
    "from scipy import stats\n",
    "from math import sqrt\n",
    "\n",
    "from sklearn.ensemble import RandomForestClassifier\n",
    "from sklearn.neighbors import KNeighborsClassifier\n",
    "from sklearn.linear_model import LogisticRegression\n",
    "from sklearn.metrics import recall_score, precision_score, f1_score, accuracy_score\n",
    "from sklearn.tree import export_graphviz\n",
    "from sklearn.metrics import classification_report\n",
    "from sklearn.metrics import confusion_matrix\n",
    "from sklearn.metrics import mean_squared_error, r2_score\n",
    "from sklearn.linear_model import LinearRegression\n",
    "from sklearn.feature_selection import f_regression \n",
    "\n",
    "import graphviz\n",
    "from graphviz import Graph\n",
    "\n",
    "import env\n",
    "import wrangle\n",
    "import os\n",
    "\n",
    "# turn off pink boxes for demo\n",
    "import warnings\n",
    "warnings.filterwarnings(\"ignore\")"
   ]
  },
  {
   "cell_type": "code",
   "execution_count": 2,
   "id": "fc9614e1",
   "metadata": {},
   "outputs": [],
   "source": [
    "# change setting to show all columns\n",
    "pd.set_option('display.max_columns', None)"
   ]
  },
  {
   "cell_type": "code",
   "execution_count": 3,
   "id": "564b7567",
   "metadata": {},
   "outputs": [
    {
     "data": {
      "text/html": [
       "<div>\n",
       "<style scoped>\n",
       "    .dataframe tbody tr th:only-of-type {\n",
       "        vertical-align: middle;\n",
       "    }\n",
       "\n",
       "    .dataframe tbody tr th {\n",
       "        vertical-align: top;\n",
       "    }\n",
       "\n",
       "    .dataframe thead th {\n",
       "        text-align: right;\n",
       "    }\n",
       "</style>\n",
       "<table border=\"1\" class=\"dataframe\">\n",
       "  <thead>\n",
       "    <tr style=\"text-align: right;\">\n",
       "      <th></th>\n",
       "      <th>propertylandusetypeid</th>\n",
       "      <th>parcelid</th>\n",
       "      <th>id</th>\n",
       "      <th>airconditioningtypeid</th>\n",
       "      <th>architecturalstyletypeid</th>\n",
       "      <th>basementsqft</th>\n",
       "      <th>bathroomcnt</th>\n",
       "      <th>bedroomcnt</th>\n",
       "      <th>buildingclasstypeid</th>\n",
       "      <th>buildingqualitytypeid</th>\n",
       "      <th>calculatedbathnbr</th>\n",
       "      <th>decktypeid</th>\n",
       "      <th>finishedfloor1squarefeet</th>\n",
       "      <th>calculatedfinishedsquarefeet</th>\n",
       "      <th>finishedsquarefeet12</th>\n",
       "      <th>finishedsquarefeet13</th>\n",
       "      <th>finishedsquarefeet15</th>\n",
       "      <th>finishedsquarefeet50</th>\n",
       "      <th>finishedsquarefeet6</th>\n",
       "      <th>fips</th>\n",
       "      <th>fireplacecnt</th>\n",
       "      <th>fullbathcnt</th>\n",
       "      <th>garagecarcnt</th>\n",
       "      <th>garagetotalsqft</th>\n",
       "      <th>hashottuborspa</th>\n",
       "      <th>heatingorsystemtypeid</th>\n",
       "      <th>latitude</th>\n",
       "      <th>longitude</th>\n",
       "      <th>lotsizesquarefeet</th>\n",
       "      <th>poolcnt</th>\n",
       "      <th>poolsizesum</th>\n",
       "      <th>pooltypeid10</th>\n",
       "      <th>pooltypeid2</th>\n",
       "      <th>pooltypeid7</th>\n",
       "      <th>propertycountylandusecode</th>\n",
       "      <th>propertyzoningdesc</th>\n",
       "      <th>rawcensustractandblock</th>\n",
       "      <th>regionidcity</th>\n",
       "      <th>regionidcounty</th>\n",
       "      <th>regionidneighborhood</th>\n",
       "      <th>regionidzip</th>\n",
       "      <th>roomcnt</th>\n",
       "      <th>storytypeid</th>\n",
       "      <th>threequarterbathnbr</th>\n",
       "      <th>typeconstructiontypeid</th>\n",
       "      <th>unitcnt</th>\n",
       "      <th>yardbuildingsqft17</th>\n",
       "      <th>yardbuildingsqft26</th>\n",
       "      <th>yearbuilt</th>\n",
       "      <th>numberofstories</th>\n",
       "      <th>fireplaceflag</th>\n",
       "      <th>structuretaxvaluedollarcnt</th>\n",
       "      <th>taxvaluedollarcnt</th>\n",
       "      <th>assessmentyear</th>\n",
       "      <th>landtaxvaluedollarcnt</th>\n",
       "      <th>taxamount</th>\n",
       "      <th>taxdelinquencyflag</th>\n",
       "      <th>taxdelinquencyyear</th>\n",
       "      <th>censustractandblock</th>\n",
       "      <th>id.1</th>\n",
       "      <th>logerror</th>\n",
       "      <th>transactiondate</th>\n",
       "      <th>propertylandusedesc</th>\n",
       "    </tr>\n",
       "  </thead>\n",
       "  <tbody>\n",
       "    <tr>\n",
       "      <th>0</th>\n",
       "      <td>261.0</td>\n",
       "      <td>10952984</td>\n",
       "      <td>2417912</td>\n",
       "      <td>NaN</td>\n",
       "      <td>NaN</td>\n",
       "      <td>NaN</td>\n",
       "      <td>4.0</td>\n",
       "      <td>4.0</td>\n",
       "      <td>NaN</td>\n",
       "      <td>8.0</td>\n",
       "      <td>4.0</td>\n",
       "      <td>NaN</td>\n",
       "      <td>NaN</td>\n",
       "      <td>2961.0</td>\n",
       "      <td>2961.0</td>\n",
       "      <td>NaN</td>\n",
       "      <td>NaN</td>\n",
       "      <td>NaN</td>\n",
       "      <td>NaN</td>\n",
       "      <td>6037.0</td>\n",
       "      <td>NaN</td>\n",
       "      <td>4.0</td>\n",
       "      <td>NaN</td>\n",
       "      <td>NaN</td>\n",
       "      <td>NaN</td>\n",
       "      <td>2.0</td>\n",
       "      <td>34193355.0</td>\n",
       "      <td>-118307273.0</td>\n",
       "      <td>8127.0</td>\n",
       "      <td>1.0</td>\n",
       "      <td>NaN</td>\n",
       "      <td>NaN</td>\n",
       "      <td>NaN</td>\n",
       "      <td>1.0</td>\n",
       "      <td>0101</td>\n",
       "      <td>BUR1*</td>\n",
       "      <td>6.037310e+07</td>\n",
       "      <td>396054.0</td>\n",
       "      <td>3101.0</td>\n",
       "      <td>NaN</td>\n",
       "      <td>96433.0</td>\n",
       "      <td>0.0</td>\n",
       "      <td>NaN</td>\n",
       "      <td>NaN</td>\n",
       "      <td>NaN</td>\n",
       "      <td>1.0</td>\n",
       "      <td>NaN</td>\n",
       "      <td>NaN</td>\n",
       "      <td>1963.0</td>\n",
       "      <td>NaN</td>\n",
       "      <td>NaN</td>\n",
       "      <td>331167.0</td>\n",
       "      <td>546265.0</td>\n",
       "      <td>2016.0</td>\n",
       "      <td>215098.0</td>\n",
       "      <td>6071.89</td>\n",
       "      <td>NaN</td>\n",
       "      <td>NaN</td>\n",
       "      <td>6.037310e+13</td>\n",
       "      <td>892</td>\n",
       "      <td>0.034615</td>\n",
       "      <td>2017-01-05</td>\n",
       "      <td>Single Family Residential</td>\n",
       "    </tr>\n",
       "    <tr>\n",
       "      <th>1</th>\n",
       "      <td>261.0</td>\n",
       "      <td>12653289</td>\n",
       "      <td>2871196</td>\n",
       "      <td>NaN</td>\n",
       "      <td>NaN</td>\n",
       "      <td>NaN</td>\n",
       "      <td>2.0</td>\n",
       "      <td>3.0</td>\n",
       "      <td>NaN</td>\n",
       "      <td>4.0</td>\n",
       "      <td>2.0</td>\n",
       "      <td>NaN</td>\n",
       "      <td>NaN</td>\n",
       "      <td>1572.0</td>\n",
       "      <td>1572.0</td>\n",
       "      <td>NaN</td>\n",
       "      <td>NaN</td>\n",
       "      <td>NaN</td>\n",
       "      <td>NaN</td>\n",
       "      <td>6037.0</td>\n",
       "      <td>NaN</td>\n",
       "      <td>2.0</td>\n",
       "      <td>NaN</td>\n",
       "      <td>NaN</td>\n",
       "      <td>NaN</td>\n",
       "      <td>7.0</td>\n",
       "      <td>33726742.0</td>\n",
       "      <td>-118301532.0</td>\n",
       "      <td>5000.0</td>\n",
       "      <td>NaN</td>\n",
       "      <td>NaN</td>\n",
       "      <td>NaN</td>\n",
       "      <td>NaN</td>\n",
       "      <td>NaN</td>\n",
       "      <td>0104</td>\n",
       "      <td>LAR1</td>\n",
       "      <td>6.037297e+07</td>\n",
       "      <td>12447.0</td>\n",
       "      <td>3101.0</td>\n",
       "      <td>54300.0</td>\n",
       "      <td>96221.0</td>\n",
       "      <td>0.0</td>\n",
       "      <td>NaN</td>\n",
       "      <td>NaN</td>\n",
       "      <td>NaN</td>\n",
       "      <td>1.0</td>\n",
       "      <td>NaN</td>\n",
       "      <td>NaN</td>\n",
       "      <td>1924.0</td>\n",
       "      <td>NaN</td>\n",
       "      <td>NaN</td>\n",
       "      <td>105762.0</td>\n",
       "      <td>227863.0</td>\n",
       "      <td>2016.0</td>\n",
       "      <td>122101.0</td>\n",
       "      <td>2770.35</td>\n",
       "      <td>NaN</td>\n",
       "      <td>NaN</td>\n",
       "      <td>6.037297e+13</td>\n",
       "      <td>891</td>\n",
       "      <td>-0.080755</td>\n",
       "      <td>2017-01-05</td>\n",
       "      <td>Single Family Residential</td>\n",
       "    </tr>\n",
       "    <tr>\n",
       "      <th>2</th>\n",
       "      <td>261.0</td>\n",
       "      <td>12612840</td>\n",
       "      <td>1514581</td>\n",
       "      <td>NaN</td>\n",
       "      <td>NaN</td>\n",
       "      <td>NaN</td>\n",
       "      <td>2.0</td>\n",
       "      <td>3.0</td>\n",
       "      <td>NaN</td>\n",
       "      <td>6.0</td>\n",
       "      <td>2.0</td>\n",
       "      <td>NaN</td>\n",
       "      <td>NaN</td>\n",
       "      <td>1540.0</td>\n",
       "      <td>1540.0</td>\n",
       "      <td>NaN</td>\n",
       "      <td>NaN</td>\n",
       "      <td>NaN</td>\n",
       "      <td>NaN</td>\n",
       "      <td>6037.0</td>\n",
       "      <td>NaN</td>\n",
       "      <td>2.0</td>\n",
       "      <td>NaN</td>\n",
       "      <td>NaN</td>\n",
       "      <td>NaN</td>\n",
       "      <td>7.0</td>\n",
       "      <td>33797217.0</td>\n",
       "      <td>-118314255.0</td>\n",
       "      <td>5555.0</td>\n",
       "      <td>NaN</td>\n",
       "      <td>NaN</td>\n",
       "      <td>NaN</td>\n",
       "      <td>NaN</td>\n",
       "      <td>NaN</td>\n",
       "      <td>0100</td>\n",
       "      <td>LOR1*</td>\n",
       "      <td>6.037670e+07</td>\n",
       "      <td>53027.0</td>\n",
       "      <td>3101.0</td>\n",
       "      <td>NaN</td>\n",
       "      <td>96217.0</td>\n",
       "      <td>0.0</td>\n",
       "      <td>NaN</td>\n",
       "      <td>NaN</td>\n",
       "      <td>NaN</td>\n",
       "      <td>1.0</td>\n",
       "      <td>NaN</td>\n",
       "      <td>NaN</td>\n",
       "      <td>1953.0</td>\n",
       "      <td>NaN</td>\n",
       "      <td>NaN</td>\n",
       "      <td>29440.0</td>\n",
       "      <td>63380.0</td>\n",
       "      <td>2016.0</td>\n",
       "      <td>33940.0</td>\n",
       "      <td>1104.70</td>\n",
       "      <td>NaN</td>\n",
       "      <td>NaN</td>\n",
       "      <td>6.037670e+13</td>\n",
       "      <td>889</td>\n",
       "      <td>0.079772</td>\n",
       "      <td>2017-01-05</td>\n",
       "      <td>Single Family Residential</td>\n",
       "    </tr>\n",
       "    <tr>\n",
       "      <th>3</th>\n",
       "      <td>261.0</td>\n",
       "      <td>12611007</td>\n",
       "      <td>216904</td>\n",
       "      <td>NaN</td>\n",
       "      <td>NaN</td>\n",
       "      <td>NaN</td>\n",
       "      <td>2.0</td>\n",
       "      <td>3.0</td>\n",
       "      <td>NaN</td>\n",
       "      <td>6.0</td>\n",
       "      <td>2.0</td>\n",
       "      <td>NaN</td>\n",
       "      <td>NaN</td>\n",
       "      <td>1470.0</td>\n",
       "      <td>1470.0</td>\n",
       "      <td>NaN</td>\n",
       "      <td>NaN</td>\n",
       "      <td>NaN</td>\n",
       "      <td>NaN</td>\n",
       "      <td>6037.0</td>\n",
       "      <td>NaN</td>\n",
       "      <td>2.0</td>\n",
       "      <td>NaN</td>\n",
       "      <td>NaN</td>\n",
       "      <td>NaN</td>\n",
       "      <td>2.0</td>\n",
       "      <td>33801082.0</td>\n",
       "      <td>-118312214.0</td>\n",
       "      <td>7287.0</td>\n",
       "      <td>NaN</td>\n",
       "      <td>NaN</td>\n",
       "      <td>NaN</td>\n",
       "      <td>NaN</td>\n",
       "      <td>NaN</td>\n",
       "      <td>0100</td>\n",
       "      <td>LOR1*</td>\n",
       "      <td>6.037670e+07</td>\n",
       "      <td>53027.0</td>\n",
       "      <td>3101.0</td>\n",
       "      <td>NaN</td>\n",
       "      <td>96217.0</td>\n",
       "      <td>0.0</td>\n",
       "      <td>NaN</td>\n",
       "      <td>NaN</td>\n",
       "      <td>NaN</td>\n",
       "      <td>1.0</td>\n",
       "      <td>NaN</td>\n",
       "      <td>NaN</td>\n",
       "      <td>1958.0</td>\n",
       "      <td>NaN</td>\n",
       "      <td>NaN</td>\n",
       "      <td>71733.0</td>\n",
       "      <td>182691.0</td>\n",
       "      <td>2016.0</td>\n",
       "      <td>110958.0</td>\n",
       "      <td>2506.91</td>\n",
       "      <td>NaN</td>\n",
       "      <td>NaN</td>\n",
       "      <td>6.037670e+13</td>\n",
       "      <td>888</td>\n",
       "      <td>0.100001</td>\n",
       "      <td>2017-01-05</td>\n",
       "      <td>Single Family Residential</td>\n",
       "    </tr>\n",
       "    <tr>\n",
       "      <th>4</th>\n",
       "      <td>261.0</td>\n",
       "      <td>12023386</td>\n",
       "      <td>304078</td>\n",
       "      <td>NaN</td>\n",
       "      <td>NaN</td>\n",
       "      <td>NaN</td>\n",
       "      <td>2.0</td>\n",
       "      <td>2.0</td>\n",
       "      <td>NaN</td>\n",
       "      <td>8.0</td>\n",
       "      <td>2.0</td>\n",
       "      <td>NaN</td>\n",
       "      <td>NaN</td>\n",
       "      <td>1533.0</td>\n",
       "      <td>1533.0</td>\n",
       "      <td>NaN</td>\n",
       "      <td>NaN</td>\n",
       "      <td>NaN</td>\n",
       "      <td>NaN</td>\n",
       "      <td>6037.0</td>\n",
       "      <td>NaN</td>\n",
       "      <td>2.0</td>\n",
       "      <td>NaN</td>\n",
       "      <td>NaN</td>\n",
       "      <td>NaN</td>\n",
       "      <td>2.0</td>\n",
       "      <td>34109199.0</td>\n",
       "      <td>-118383568.0</td>\n",
       "      <td>3124.0</td>\n",
       "      <td>NaN</td>\n",
       "      <td>NaN</td>\n",
       "      <td>NaN</td>\n",
       "      <td>NaN</td>\n",
       "      <td>NaN</td>\n",
       "      <td>0100</td>\n",
       "      <td>LAR1</td>\n",
       "      <td>6.037194e+07</td>\n",
       "      <td>12447.0</td>\n",
       "      <td>3101.0</td>\n",
       "      <td>113749.0</td>\n",
       "      <td>96027.0</td>\n",
       "      <td>0.0</td>\n",
       "      <td>NaN</td>\n",
       "      <td>NaN</td>\n",
       "      <td>NaN</td>\n",
       "      <td>1.0</td>\n",
       "      <td>NaN</td>\n",
       "      <td>NaN</td>\n",
       "      <td>1963.0</td>\n",
       "      <td>NaN</td>\n",
       "      <td>NaN</td>\n",
       "      <td>52583.0</td>\n",
       "      <td>87557.0</td>\n",
       "      <td>2016.0</td>\n",
       "      <td>34974.0</td>\n",
       "      <td>1229.29</td>\n",
       "      <td>NaN</td>\n",
       "      <td>NaN</td>\n",
       "      <td>6.037194e+13</td>\n",
       "      <td>886</td>\n",
       "      <td>-0.006511</td>\n",
       "      <td>2017-01-05</td>\n",
       "      <td>Single Family Residential</td>\n",
       "    </tr>\n",
       "  </tbody>\n",
       "</table>\n",
       "</div>"
      ],
      "text/plain": [
       "   propertylandusetypeid  parcelid       id  airconditioningtypeid  \\\n",
       "0                  261.0  10952984  2417912                    NaN   \n",
       "1                  261.0  12653289  2871196                    NaN   \n",
       "2                  261.0  12612840  1514581                    NaN   \n",
       "3                  261.0  12611007   216904                    NaN   \n",
       "4                  261.0  12023386   304078                    NaN   \n",
       "\n",
       "   architecturalstyletypeid  basementsqft  bathroomcnt  bedroomcnt  \\\n",
       "0                       NaN           NaN          4.0         4.0   \n",
       "1                       NaN           NaN          2.0         3.0   \n",
       "2                       NaN           NaN          2.0         3.0   \n",
       "3                       NaN           NaN          2.0         3.0   \n",
       "4                       NaN           NaN          2.0         2.0   \n",
       "\n",
       "   buildingclasstypeid  buildingqualitytypeid  calculatedbathnbr  decktypeid  \\\n",
       "0                  NaN                    8.0                4.0         NaN   \n",
       "1                  NaN                    4.0                2.0         NaN   \n",
       "2                  NaN                    6.0                2.0         NaN   \n",
       "3                  NaN                    6.0                2.0         NaN   \n",
       "4                  NaN                    8.0                2.0         NaN   \n",
       "\n",
       "   finishedfloor1squarefeet  calculatedfinishedsquarefeet  \\\n",
       "0                       NaN                        2961.0   \n",
       "1                       NaN                        1572.0   \n",
       "2                       NaN                        1540.0   \n",
       "3                       NaN                        1470.0   \n",
       "4                       NaN                        1533.0   \n",
       "\n",
       "   finishedsquarefeet12  finishedsquarefeet13  finishedsquarefeet15  \\\n",
       "0                2961.0                   NaN                   NaN   \n",
       "1                1572.0                   NaN                   NaN   \n",
       "2                1540.0                   NaN                   NaN   \n",
       "3                1470.0                   NaN                   NaN   \n",
       "4                1533.0                   NaN                   NaN   \n",
       "\n",
       "   finishedsquarefeet50  finishedsquarefeet6    fips  fireplacecnt  \\\n",
       "0                   NaN                  NaN  6037.0           NaN   \n",
       "1                   NaN                  NaN  6037.0           NaN   \n",
       "2                   NaN                  NaN  6037.0           NaN   \n",
       "3                   NaN                  NaN  6037.0           NaN   \n",
       "4                   NaN                  NaN  6037.0           NaN   \n",
       "\n",
       "   fullbathcnt  garagecarcnt  garagetotalsqft  hashottuborspa  \\\n",
       "0          4.0           NaN              NaN             NaN   \n",
       "1          2.0           NaN              NaN             NaN   \n",
       "2          2.0           NaN              NaN             NaN   \n",
       "3          2.0           NaN              NaN             NaN   \n",
       "4          2.0           NaN              NaN             NaN   \n",
       "\n",
       "   heatingorsystemtypeid    latitude    longitude  lotsizesquarefeet  poolcnt  \\\n",
       "0                    2.0  34193355.0 -118307273.0             8127.0      1.0   \n",
       "1                    7.0  33726742.0 -118301532.0             5000.0      NaN   \n",
       "2                    7.0  33797217.0 -118314255.0             5555.0      NaN   \n",
       "3                    2.0  33801082.0 -118312214.0             7287.0      NaN   \n",
       "4                    2.0  34109199.0 -118383568.0             3124.0      NaN   \n",
       "\n",
       "   poolsizesum  pooltypeid10  pooltypeid2  pooltypeid7  \\\n",
       "0          NaN           NaN          NaN          1.0   \n",
       "1          NaN           NaN          NaN          NaN   \n",
       "2          NaN           NaN          NaN          NaN   \n",
       "3          NaN           NaN          NaN          NaN   \n",
       "4          NaN           NaN          NaN          NaN   \n",
       "\n",
       "  propertycountylandusecode propertyzoningdesc  rawcensustractandblock  \\\n",
       "0                      0101              BUR1*            6.037310e+07   \n",
       "1                      0104               LAR1            6.037297e+07   \n",
       "2                      0100              LOR1*            6.037670e+07   \n",
       "3                      0100              LOR1*            6.037670e+07   \n",
       "4                      0100               LAR1            6.037194e+07   \n",
       "\n",
       "   regionidcity  regionidcounty  regionidneighborhood  regionidzip  roomcnt  \\\n",
       "0      396054.0          3101.0                   NaN      96433.0      0.0   \n",
       "1       12447.0          3101.0               54300.0      96221.0      0.0   \n",
       "2       53027.0          3101.0                   NaN      96217.0      0.0   \n",
       "3       53027.0          3101.0                   NaN      96217.0      0.0   \n",
       "4       12447.0          3101.0              113749.0      96027.0      0.0   \n",
       "\n",
       "   storytypeid  threequarterbathnbr  typeconstructiontypeid  unitcnt  \\\n",
       "0          NaN                  NaN                     NaN      1.0   \n",
       "1          NaN                  NaN                     NaN      1.0   \n",
       "2          NaN                  NaN                     NaN      1.0   \n",
       "3          NaN                  NaN                     NaN      1.0   \n",
       "4          NaN                  NaN                     NaN      1.0   \n",
       "\n",
       "   yardbuildingsqft17  yardbuildingsqft26  yearbuilt  numberofstories  \\\n",
       "0                 NaN                 NaN     1963.0              NaN   \n",
       "1                 NaN                 NaN     1924.0              NaN   \n",
       "2                 NaN                 NaN     1953.0              NaN   \n",
       "3                 NaN                 NaN     1958.0              NaN   \n",
       "4                 NaN                 NaN     1963.0              NaN   \n",
       "\n",
       "   fireplaceflag  structuretaxvaluedollarcnt  taxvaluedollarcnt  \\\n",
       "0            NaN                    331167.0           546265.0   \n",
       "1            NaN                    105762.0           227863.0   \n",
       "2            NaN                     29440.0            63380.0   \n",
       "3            NaN                     71733.0           182691.0   \n",
       "4            NaN                     52583.0            87557.0   \n",
       "\n",
       "   assessmentyear  landtaxvaluedollarcnt  taxamount taxdelinquencyflag  \\\n",
       "0          2016.0               215098.0    6071.89                NaN   \n",
       "1          2016.0               122101.0    2770.35                NaN   \n",
       "2          2016.0                33940.0    1104.70                NaN   \n",
       "3          2016.0               110958.0    2506.91                NaN   \n",
       "4          2016.0                34974.0    1229.29                NaN   \n",
       "\n",
       "   taxdelinquencyyear  censustractandblock  id.1  logerror transactiondate  \\\n",
       "0                 NaN         6.037310e+13   892  0.034615      2017-01-05   \n",
       "1                 NaN         6.037297e+13   891 -0.080755      2017-01-05   \n",
       "2                 NaN         6.037670e+13   889  0.079772      2017-01-05   \n",
       "3                 NaN         6.037670e+13   888  0.100001      2017-01-05   \n",
       "4                 NaN         6.037194e+13   886 -0.006511      2017-01-05   \n",
       "\n",
       "         propertylandusedesc  \n",
       "0  Single Family Residential  \n",
       "1  Single Family Residential  \n",
       "2  Single Family Residential  \n",
       "3  Single Family Residential  \n",
       "4  Single Family Residential  "
      ]
     },
     "execution_count": 3,
     "metadata": {},
     "output_type": "execute_result"
    }
   ],
   "source": [
    "# use function to pull in zillow data\n",
    "df = wrangle.get_zillow_data()\n",
    "df.head()"
   ]
  },
  {
   "cell_type": "code",
   "execution_count": 4,
   "id": "1588076b",
   "metadata": {
    "scrolled": true
   },
   "outputs": [
    {
     "name": "stdout",
     "output_type": "stream",
     "text": [
      "<class 'pandas.core.frame.DataFrame'>\n",
      "Int64Index: 52441 entries, 0 to 52440\n",
      "Data columns (total 63 columns):\n",
      " #   Column                        Non-Null Count  Dtype  \n",
      "---  ------                        --------------  -----  \n",
      " 0   propertylandusetypeid         52441 non-null  float64\n",
      " 1   parcelid                      52441 non-null  int64  \n",
      " 2   id                            52441 non-null  int64  \n",
      " 3   airconditioningtypeid         13638 non-null  float64\n",
      " 4   architecturalstyletypeid      70 non-null     float64\n",
      " 5   basementsqft                  47 non-null     float64\n",
      " 6   bathroomcnt                   52441 non-null  float64\n",
      " 7   bedroomcnt                    52441 non-null  float64\n",
      " 8   buildingclasstypeid           0 non-null      float64\n",
      " 9   buildingqualitytypeid         33740 non-null  float64\n",
      " 10  calculatedbathnbr             52304 non-null  float64\n",
      " 11  decktypeid                    389 non-null    float64\n",
      " 12  finishedfloor1squarefeet      4381 non-null   float64\n",
      " 13  calculatedfinishedsquarefeet  52359 non-null  float64\n",
      " 14  finishedsquarefeet12          52194 non-null  float64\n",
      " 15  finishedsquarefeet13          0 non-null      float64\n",
      " 16  finishedsquarefeet15          0 non-null      float64\n",
      " 17  finishedsquarefeet50          4381 non-null   float64\n",
      " 18  finishedsquarefeet6           165 non-null    float64\n",
      " 19  fips                          52441 non-null  float64\n",
      " 20  fireplacecnt                  7243 non-null   float64\n",
      " 21  fullbathcnt                   52304 non-null  float64\n",
      " 22  garagecarcnt                  18015 non-null  float64\n",
      " 23  garagetotalsqft               18015 non-null  float64\n",
      " 24  hashottuborspa                1515 non-null   float64\n",
      " 25  heatingorsystemtypeid         33935 non-null  float64\n",
      " 26  latitude                      52441 non-null  float64\n",
      " 27  longitude                     52441 non-null  float64\n",
      " 28  lotsizesquarefeet             52072 non-null  float64\n",
      " 29  poolcnt                       11096 non-null  float64\n",
      " 30  poolsizesum                   867 non-null    float64\n",
      " 31  pooltypeid10                  444 non-null    float64\n",
      " 32  pooltypeid2                   1071 non-null   float64\n",
      " 33  pooltypeid7                   10009 non-null  float64\n",
      " 34  propertycountylandusecode     52441 non-null  object \n",
      " 35  propertyzoningdesc            33848 non-null  object \n",
      " 36  rawcensustractandblock        52441 non-null  float64\n",
      " 37  regionidcity                  51404 non-null  float64\n",
      " 38  regionidcounty                52441 non-null  float64\n",
      " 39  regionidneighborhood          19033 non-null  float64\n",
      " 40  regionidzip                   52415 non-null  float64\n",
      " 41  roomcnt                       52441 non-null  float64\n",
      " 42  storytypeid                   47 non-null     float64\n",
      " 43  threequarterbathnbr           6724 non-null   float64\n",
      " 44  typeconstructiontypeid        76 non-null     float64\n",
      " 45  unitcnt                       33847 non-null  float64\n",
      " 46  yardbuildingsqft17            1937 non-null   float64\n",
      " 47  yardbuildingsqft26            63 non-null     float64\n",
      " 48  yearbuilt                     52325 non-null  float64\n",
      " 49  numberofstories               14561 non-null  float64\n",
      " 50  fireplaceflag                 81 non-null     float64\n",
      " 51  structuretaxvaluedollarcnt    52357 non-null  float64\n",
      " 52  taxvaluedollarcnt             52440 non-null  float64\n",
      " 53  assessmentyear                52441 non-null  float64\n",
      " 54  landtaxvaluedollarcnt         52440 non-null  float64\n",
      " 55  taxamount                     52437 non-null  float64\n",
      " 56  taxdelinquencyflag            2079 non-null   object \n",
      " 57  taxdelinquencyyear            2079 non-null   float64\n",
      " 58  censustractandblock           52318 non-null  float64\n",
      " 59  id.1                          52441 non-null  int64  \n",
      " 60  logerror                      52441 non-null  float64\n",
      " 61  transactiondate               52441 non-null  object \n",
      " 62  propertylandusedesc           52441 non-null  object \n",
      "dtypes: float64(55), int64(3), object(5)\n",
      "memory usage: 25.6+ MB\n"
     ]
    }
   ],
   "source": [
    "# check info (nulls, dtypes, columns, size, etc)\n",
    "df.info()"
   ]
  },
  {
   "cell_type": "code",
   "execution_count": 5,
   "id": "818534a3",
   "metadata": {},
   "outputs": [],
   "source": [
    "# save original columns to list\n",
    "original_df_cols = df.columns.tolist()"
   ]
  },
  {
   "cell_type": "code",
   "execution_count": 6,
   "id": "fe300617",
   "metadata": {},
   "outputs": [],
   "source": [
    "# create a function to return list of columns with greater than a set percentage of nulls\n",
    "def get_cols_with_large_null_percentage(df, percentage):\n",
    "    '''\n",
    "    This function takes in a dataframe and a percentage and returns a list of columns that have \n",
    "    a greater percentage of nulls than provided as an argument\n",
    "    '''\n",
    "    \n",
    "    # Set null threshold. Any columns that have this ratio or higher of nulls will be removed\n",
    "    null_perc_thresh = percentage\n",
    "\n",
    "    # Create empty list to keep track of which columns to drop\n",
    "    cols_with_many_nulls = []\n",
    "\n",
    "    # Loop through df and append columns with null percentage higher than specified to cols_to_drop list\n",
    "    for col in df.columns:\n",
    "        num_nulls = df[col].isnull().sum()\n",
    "        if num_nulls == 0:\n",
    "            continue\n",
    "        null_perc = num_nulls / len(df)\n",
    "        if null_perc > null_perc_thresh:\n",
    "            cols_with_many_nulls.append(col)\n",
    "        \n",
    "    return cols_with_many_nulls"
   ]
  },
  {
   "cell_type": "code",
   "execution_count": 7,
   "id": "aeb92cb3",
   "metadata": {},
   "outputs": [
    {
     "data": {
      "text/plain": [
       "['airconditioningtypeid',\n",
       " 'architecturalstyletypeid',\n",
       " 'basementsqft',\n",
       " 'buildingclasstypeid',\n",
       " 'buildingqualitytypeid',\n",
       " 'decktypeid',\n",
       " 'finishedfloor1squarefeet',\n",
       " 'finishedsquarefeet13',\n",
       " 'finishedsquarefeet15',\n",
       " 'finishedsquarefeet50',\n",
       " 'finishedsquarefeet6',\n",
       " 'fireplacecnt',\n",
       " 'garagecarcnt',\n",
       " 'garagetotalsqft',\n",
       " 'hashottuborspa',\n",
       " 'heatingorsystemtypeid',\n",
       " 'poolcnt',\n",
       " 'poolsizesum',\n",
       " 'pooltypeid10',\n",
       " 'pooltypeid2',\n",
       " 'pooltypeid7',\n",
       " 'propertyzoningdesc',\n",
       " 'regionidneighborhood',\n",
       " 'storytypeid',\n",
       " 'threequarterbathnbr',\n",
       " 'typeconstructiontypeid',\n",
       " 'unitcnt',\n",
       " 'yardbuildingsqft17',\n",
       " 'yardbuildingsqft26',\n",
       " 'numberofstories',\n",
       " 'fireplaceflag',\n",
       " 'taxdelinquencyflag',\n",
       " 'taxdelinquencyyear']"
      ]
     },
     "execution_count": 7,
     "metadata": {},
     "output_type": "execute_result"
    }
   ],
   "source": [
    "# create variable to hold and review cols to drop\n",
    "cols_to_drop = (get_cols_with_large_null_percentage(df, 0.35))\n",
    "cols_to_drop"
   ]
  },
  {
   "cell_type": "code",
   "execution_count": 8,
   "id": "c6becd15",
   "metadata": {},
   "outputs": [],
   "source": [
    "# drop columns with too many nulls\n",
    "df = df.drop(columns=cols_to_drop)"
   ]
  },
  {
   "cell_type": "code",
   "execution_count": 9,
   "id": "75d8fbdb",
   "metadata": {},
   "outputs": [
    {
     "data": {
      "text/plain": [
       "Index(['propertylandusetypeid', 'parcelid', 'id', 'bathroomcnt', 'bedroomcnt',\n",
       "       'calculatedbathnbr', 'calculatedfinishedsquarefeet',\n",
       "       'finishedsquarefeet12', 'fips', 'fullbathcnt', 'latitude', 'longitude',\n",
       "       'lotsizesquarefeet', 'propertycountylandusecode',\n",
       "       'rawcensustractandblock', 'regionidcity', 'regionidcounty',\n",
       "       'regionidzip', 'roomcnt', 'yearbuilt', 'structuretaxvaluedollarcnt',\n",
       "       'taxvaluedollarcnt', 'assessmentyear', 'landtaxvaluedollarcnt',\n",
       "       'taxamount', 'censustractandblock', 'id.1', 'logerror',\n",
       "       'transactiondate', 'propertylandusedesc'],\n",
       "      dtype='object')"
      ]
     },
     "execution_count": 9,
     "metadata": {},
     "output_type": "execute_result"
    }
   ],
   "source": [
    "# check columns\n",
    "df.columns"
   ]
  },
  {
   "cell_type": "code",
   "execution_count": 10,
   "id": "3bee9629",
   "metadata": {},
   "outputs": [
    {
     "data": {
      "text/plain": [
       "2017-06-30    810\n",
       "2017-04-28    617\n",
       "2017-05-31    566\n",
       "2017-07-28    546\n",
       "2017-08-31    528\n",
       "             ... \n",
       "2017-03-25      1\n",
       "2017-03-12      1\n",
       "2017-06-03      1\n",
       "2017-08-12      1\n",
       "2017-06-11      1\n",
       "Name: transactiondate, Length: 257, dtype: int64"
      ]
     },
     "execution_count": 10,
     "metadata": {},
     "output_type": "execute_result"
    }
   ],
   "source": [
    "# check that all properties had a transaction during 2017\n",
    "df.transactiondate.value_counts()"
   ]
  },
  {
   "cell_type": "code",
   "execution_count": 11,
   "id": "d147ffc2",
   "metadata": {},
   "outputs": [
    {
     "data": {
      "text/plain": [
       "Single Family Residential    52441\n",
       "Name: propertylandusedesc, dtype: int64"
      ]
     },
     "execution_count": 11,
     "metadata": {},
     "output_type": "execute_result"
    }
   ],
   "source": [
    "# check that all properties are single family residential\n",
    "df.propertylandusedesc.value_counts()"
   ]
  },
  {
   "cell_type": "code",
   "execution_count": 12,
   "id": "f810081c",
   "metadata": {},
   "outputs": [],
   "source": [
    "# specify more columns to drop based on usefulness\n",
    "more_cols_to_drop = ['propertylandusetypeid','id','calculatedbathnbr',\n",
    "                     'finishedsquarefeet12','fullbathcnt','latitude',\n",
    "                     'longitude','propertycountylandusecode',\n",
    "                     'rawcensustractandblock','regionidzip',\n",
    "                     'structuretaxvaluedollarcnt','assessmentyear',\n",
    "                     'landtaxvaluedollarcnt','taxamount',\n",
    "                     'censustractandblock','id.1','logerror',\n",
    "                     'transactiondate','propertylandusedesc',\n",
    "                     'regionidcity','regionidcounty','parcelid']"
   ]
  },
  {
   "cell_type": "code",
   "execution_count": 13,
   "id": "ce079122",
   "metadata": {},
   "outputs": [
    {
     "data": {
      "text/html": [
       "<div>\n",
       "<style scoped>\n",
       "    .dataframe tbody tr th:only-of-type {\n",
       "        vertical-align: middle;\n",
       "    }\n",
       "\n",
       "    .dataframe tbody tr th {\n",
       "        vertical-align: top;\n",
       "    }\n",
       "\n",
       "    .dataframe thead th {\n",
       "        text-align: right;\n",
       "    }\n",
       "</style>\n",
       "<table border=\"1\" class=\"dataframe\">\n",
       "  <thead>\n",
       "    <tr style=\"text-align: right;\">\n",
       "      <th></th>\n",
       "      <th>bathroomcnt</th>\n",
       "      <th>bedroomcnt</th>\n",
       "      <th>calculatedfinishedsquarefeet</th>\n",
       "      <th>fips</th>\n",
       "      <th>lotsizesquarefeet</th>\n",
       "      <th>roomcnt</th>\n",
       "      <th>yearbuilt</th>\n",
       "      <th>taxvaluedollarcnt</th>\n",
       "    </tr>\n",
       "  </thead>\n",
       "  <tbody>\n",
       "    <tr>\n",
       "      <th>0</th>\n",
       "      <td>4.0</td>\n",
       "      <td>4.0</td>\n",
       "      <td>2961.0</td>\n",
       "      <td>6037.0</td>\n",
       "      <td>8127.0</td>\n",
       "      <td>0.0</td>\n",
       "      <td>1963.0</td>\n",
       "      <td>546265.0</td>\n",
       "    </tr>\n",
       "    <tr>\n",
       "      <th>1</th>\n",
       "      <td>2.0</td>\n",
       "      <td>3.0</td>\n",
       "      <td>1572.0</td>\n",
       "      <td>6037.0</td>\n",
       "      <td>5000.0</td>\n",
       "      <td>0.0</td>\n",
       "      <td>1924.0</td>\n",
       "      <td>227863.0</td>\n",
       "    </tr>\n",
       "    <tr>\n",
       "      <th>2</th>\n",
       "      <td>2.0</td>\n",
       "      <td>3.0</td>\n",
       "      <td>1540.0</td>\n",
       "      <td>6037.0</td>\n",
       "      <td>5555.0</td>\n",
       "      <td>0.0</td>\n",
       "      <td>1953.0</td>\n",
       "      <td>63380.0</td>\n",
       "    </tr>\n",
       "  </tbody>\n",
       "</table>\n",
       "</div>"
      ],
      "text/plain": [
       "   bathroomcnt  bedroomcnt  calculatedfinishedsquarefeet    fips  \\\n",
       "0          4.0         4.0                        2961.0  6037.0   \n",
       "1          2.0         3.0                        1572.0  6037.0   \n",
       "2          2.0         3.0                        1540.0  6037.0   \n",
       "\n",
       "   lotsizesquarefeet  roomcnt  yearbuilt  taxvaluedollarcnt  \n",
       "0             8127.0      0.0     1963.0           546265.0  \n",
       "1             5000.0      0.0     1924.0           227863.0  \n",
       "2             5555.0      0.0     1953.0            63380.0  "
      ]
     },
     "execution_count": 13,
     "metadata": {},
     "output_type": "execute_result"
    }
   ],
   "source": [
    "# drop additional columns\n",
    "df = df.drop(columns=more_cols_to_drop)\n",
    "df.head(3)"
   ]
  },
  {
   "cell_type": "code",
   "execution_count": 14,
   "id": "bda267ef",
   "metadata": {},
   "outputs": [
    {
     "name": "stdout",
     "output_type": "stream",
     "text": [
      "<class 'pandas.core.frame.DataFrame'>\n",
      "Int64Index: 52441 entries, 0 to 52440\n",
      "Data columns (total 8 columns):\n",
      " #   Column                        Non-Null Count  Dtype  \n",
      "---  ------                        --------------  -----  \n",
      " 0   bathroomcnt                   52441 non-null  float64\n",
      " 1   bedroomcnt                    52441 non-null  float64\n",
      " 2   calculatedfinishedsquarefeet  52359 non-null  float64\n",
      " 3   fips                          52441 non-null  float64\n",
      " 4   lotsizesquarefeet             52072 non-null  float64\n",
      " 5   roomcnt                       52441 non-null  float64\n",
      " 6   yearbuilt                     52325 non-null  float64\n",
      " 7   taxvaluedollarcnt             52440 non-null  float64\n",
      "dtypes: float64(8)\n",
      "memory usage: 3.6 MB\n"
     ]
    }
   ],
   "source": [
    "# check info\n",
    "df.info()"
   ]
  },
  {
   "cell_type": "code",
   "execution_count": 15,
   "id": "3835f5f9",
   "metadata": {},
   "outputs": [
    {
     "data": {
      "text/html": [
       "<div>\n",
       "<style scoped>\n",
       "    .dataframe tbody tr th:only-of-type {\n",
       "        vertical-align: middle;\n",
       "    }\n",
       "\n",
       "    .dataframe tbody tr th {\n",
       "        vertical-align: top;\n",
       "    }\n",
       "\n",
       "    .dataframe thead th {\n",
       "        text-align: right;\n",
       "    }\n",
       "</style>\n",
       "<table border=\"1\" class=\"dataframe\">\n",
       "  <thead>\n",
       "    <tr style=\"text-align: right;\">\n",
       "      <th></th>\n",
       "      <th>bathroomcnt</th>\n",
       "      <th>bedroomcnt</th>\n",
       "      <th>calculatedfinishedsquarefeet</th>\n",
       "      <th>fips</th>\n",
       "      <th>lotsizesquarefeet</th>\n",
       "      <th>roomcnt</th>\n",
       "      <th>yearbuilt</th>\n",
       "      <th>taxvaluedollarcnt</th>\n",
       "      <th>age</th>\n",
       "    </tr>\n",
       "  </thead>\n",
       "  <tbody>\n",
       "    <tr>\n",
       "      <th>0</th>\n",
       "      <td>4.0</td>\n",
       "      <td>4.0</td>\n",
       "      <td>2961.0</td>\n",
       "      <td>6037.0</td>\n",
       "      <td>8127.0</td>\n",
       "      <td>0.0</td>\n",
       "      <td>1963.0</td>\n",
       "      <td>546265.0</td>\n",
       "      <td>58.0</td>\n",
       "    </tr>\n",
       "    <tr>\n",
       "      <th>1</th>\n",
       "      <td>2.0</td>\n",
       "      <td>3.0</td>\n",
       "      <td>1572.0</td>\n",
       "      <td>6037.0</td>\n",
       "      <td>5000.0</td>\n",
       "      <td>0.0</td>\n",
       "      <td>1924.0</td>\n",
       "      <td>227863.0</td>\n",
       "      <td>97.0</td>\n",
       "    </tr>\n",
       "    <tr>\n",
       "      <th>2</th>\n",
       "      <td>2.0</td>\n",
       "      <td>3.0</td>\n",
       "      <td>1540.0</td>\n",
       "      <td>6037.0</td>\n",
       "      <td>5555.0</td>\n",
       "      <td>0.0</td>\n",
       "      <td>1953.0</td>\n",
       "      <td>63380.0</td>\n",
       "      <td>68.0</td>\n",
       "    </tr>\n",
       "  </tbody>\n",
       "</table>\n",
       "</div>"
      ],
      "text/plain": [
       "   bathroomcnt  bedroomcnt  calculatedfinishedsquarefeet    fips  \\\n",
       "0          4.0         4.0                        2961.0  6037.0   \n",
       "1          2.0         3.0                        1572.0  6037.0   \n",
       "2          2.0         3.0                        1540.0  6037.0   \n",
       "\n",
       "   lotsizesquarefeet  roomcnt  yearbuilt  taxvaluedollarcnt   age  \n",
       "0             8127.0      0.0     1963.0           546265.0  58.0  \n",
       "1             5000.0      0.0     1924.0           227863.0  97.0  \n",
       "2             5555.0      0.0     1953.0            63380.0  68.0  "
      ]
     },
     "execution_count": 15,
     "metadata": {},
     "output_type": "execute_result"
    }
   ],
   "source": [
    "# create an age column\n",
    "df['age'] = 2021-df.yearbuilt\n",
    "df.head(3)"
   ]
  },
  {
   "cell_type": "code",
   "execution_count": 16,
   "id": "cb848dad",
   "metadata": {},
   "outputs": [],
   "source": [
    "# Rename some columns for simplicity\n",
    "df = df.rename(columns={'bedroomcnt':'bedrooms',\n",
    "                        'bathroomcnt':'bathrooms',\n",
    "                        'calculatedfinishedsquarefeet':'area',\n",
    "                        'lotsizesquarefeet':'lot_area',\n",
    "                        'roomcnt':'total_num_of_rooms',\n",
    "                        'taxvaluedollarcnt':'taxvalue'})"
   ]
  },
  {
   "cell_type": "code",
   "execution_count": 17,
   "id": "b6bb341f",
   "metadata": {},
   "outputs": [
    {
     "data": {
      "text/plain": [
       "3.0     23359\n",
       "4.0     15240\n",
       "2.0      8340\n",
       "5.0      3973\n",
       "6.0       635\n",
       "1.0       612\n",
       "0.0       137\n",
       "7.0       106\n",
       "8.0        24\n",
       "9.0         8\n",
       "12.0        3\n",
       "10.0        2\n",
       "14.0        1\n",
       "11.0        1\n",
       "Name: bedrooms, dtype: int64"
      ]
     },
     "execution_count": 17,
     "metadata": {},
     "output_type": "execute_result"
    }
   ],
   "source": [
    "# check bedroom value counts\n",
    "df.bedrooms.value_counts()"
   ]
  },
  {
   "cell_type": "code",
   "execution_count": 18,
   "id": "c918925e",
   "metadata": {},
   "outputs": [
    {
     "data": {
      "text/plain": [
       "bathrooms               0\n",
       "bedrooms                0\n",
       "area                   82\n",
       "fips                    0\n",
       "lot_area              369\n",
       "total_num_of_rooms      0\n",
       "yearbuilt             116\n",
       "taxvalue                1\n",
       "age                   116\n",
       "dtype: int64"
      ]
     },
     "execution_count": 18,
     "metadata": {},
     "output_type": "execute_result"
    }
   ],
   "source": [
    "# check for nulls\n",
    "df.isnull().sum()"
   ]
  },
  {
   "cell_type": "code",
   "execution_count": 19,
   "id": "c7d5a0c8",
   "metadata": {},
   "outputs": [
    {
     "data": {
      "text/plain": [
       "(51959, 9)"
      ]
     },
     "execution_count": 19,
     "metadata": {},
     "output_type": "execute_result"
    }
   ],
   "source": [
    "# drop rows with null values\n",
    "df = df.dropna()\n",
    "df.shape"
   ]
  },
  {
   "cell_type": "code",
   "execution_count": 20,
   "id": "a2ae03ec",
   "metadata": {},
   "outputs": [],
   "source": [
    "# Create list of datatypes I want to change\n",
    "int_col_list = ['bedrooms','area','taxvalue','age']\n",
    "obj_col_list = ['yearbuilt']\n",
    "    \n",
    "# Change data types where it makes sense\n",
    "for col in df:\n",
    "    if col in int_col_list:\n",
    "        df[col] = df[col].astype(int)\n",
    "    if col in obj_col_list:\n",
    "        df[col] = df[col].astype(int).astype(object)"
   ]
  },
  {
   "cell_type": "code",
   "execution_count": 21,
   "id": "1c77e27f",
   "metadata": {},
   "outputs": [
    {
     "data": {
      "text/html": [
       "<div>\n",
       "<style scoped>\n",
       "    .dataframe tbody tr th:only-of-type {\n",
       "        vertical-align: middle;\n",
       "    }\n",
       "\n",
       "    .dataframe tbody tr th {\n",
       "        vertical-align: top;\n",
       "    }\n",
       "\n",
       "    .dataframe thead th {\n",
       "        text-align: right;\n",
       "    }\n",
       "</style>\n",
       "<table border=\"1\" class=\"dataframe\">\n",
       "  <thead>\n",
       "    <tr style=\"text-align: right;\">\n",
       "      <th></th>\n",
       "      <th>bathrooms</th>\n",
       "      <th>bedrooms</th>\n",
       "      <th>area</th>\n",
       "      <th>fips</th>\n",
       "      <th>lot_area</th>\n",
       "      <th>total_num_of_rooms</th>\n",
       "      <th>taxvalue</th>\n",
       "      <th>age</th>\n",
       "    </tr>\n",
       "  </thead>\n",
       "  <tbody>\n",
       "    <tr>\n",
       "      <th>count</th>\n",
       "      <td>51959</td>\n",
       "      <td>51959</td>\n",
       "      <td>51959</td>\n",
       "      <td>51959</td>\n",
       "      <td>51959</td>\n",
       "      <td>51959</td>\n",
       "      <td>51959</td>\n",
       "      <td>51959</td>\n",
       "    </tr>\n",
       "    <tr>\n",
       "      <th>mean</th>\n",
       "      <td>2.29716</td>\n",
       "      <td>3.30495</td>\n",
       "      <td>1918.25</td>\n",
       "      <td>6049.15</td>\n",
       "      <td>11251.6</td>\n",
       "      <td>1.90427</td>\n",
       "      <td>525552</td>\n",
       "      <td>57.7522</td>\n",
       "    </tr>\n",
       "    <tr>\n",
       "      <th>std</th>\n",
       "      <td>1.01117</td>\n",
       "      <td>0.934239</td>\n",
       "      <td>994.308</td>\n",
       "      <td>21.0341</td>\n",
       "      <td>86640.6</td>\n",
       "      <td>3.15276</td>\n",
       "      <td>716442</td>\n",
       "      <td>22.9762</td>\n",
       "    </tr>\n",
       "    <tr>\n",
       "      <th>min</th>\n",
       "      <td>0</td>\n",
       "      <td>0</td>\n",
       "      <td>128</td>\n",
       "      <td>6037</td>\n",
       "      <td>236</td>\n",
       "      <td>0</td>\n",
       "      <td>1000</td>\n",
       "      <td>5</td>\n",
       "    </tr>\n",
       "    <tr>\n",
       "      <th>25%</th>\n",
       "      <td>2</td>\n",
       "      <td>3</td>\n",
       "      <td>1268</td>\n",
       "      <td>6037</td>\n",
       "      <td>5581.5</td>\n",
       "      <td>0</td>\n",
       "      <td>193482</td>\n",
       "      <td>42</td>\n",
       "    </tr>\n",
       "    <tr>\n",
       "      <th>50%</th>\n",
       "      <td>2</td>\n",
       "      <td>3</td>\n",
       "      <td>1657</td>\n",
       "      <td>6037</td>\n",
       "      <td>6838</td>\n",
       "      <td>0</td>\n",
       "      <td>372791</td>\n",
       "      <td>61</td>\n",
       "    </tr>\n",
       "    <tr>\n",
       "      <th>75%</th>\n",
       "      <td>3</td>\n",
       "      <td>4</td>\n",
       "      <td>2301</td>\n",
       "      <td>6059</td>\n",
       "      <td>8777</td>\n",
       "      <td>5</td>\n",
       "      <td>616742</td>\n",
       "      <td>71</td>\n",
       "    </tr>\n",
       "    <tr>\n",
       "      <th>max</th>\n",
       "      <td>13</td>\n",
       "      <td>11</td>\n",
       "      <td>21929</td>\n",
       "      <td>6111</td>\n",
       "      <td>6.97101e+06</td>\n",
       "      <td>15</td>\n",
       "      <td>2.53812e+07</td>\n",
       "      <td>143</td>\n",
       "    </tr>\n",
       "  </tbody>\n",
       "</table>\n",
       "</div>"
      ],
      "text/plain": [
       "      bathrooms  bedrooms     area     fips     lot_area total_num_of_rooms  \\\n",
       "count     51959     51959    51959    51959        51959              51959   \n",
       "mean    2.29716   3.30495  1918.25  6049.15      11251.6            1.90427   \n",
       "std     1.01117  0.934239  994.308  21.0341      86640.6            3.15276   \n",
       "min           0         0      128     6037          236                  0   \n",
       "25%           2         3     1268     6037       5581.5                  0   \n",
       "50%           2         3     1657     6037         6838                  0   \n",
       "75%           3         4     2301     6059         8777                  5   \n",
       "max          13        11    21929     6111  6.97101e+06                 15   \n",
       "\n",
       "          taxvalue      age  \n",
       "count        51959    51959  \n",
       "mean        525552  57.7522  \n",
       "std         716442  22.9762  \n",
       "min           1000        5  \n",
       "25%         193482       42  \n",
       "50%         372791       61  \n",
       "75%         616742       71  \n",
       "max    2.53812e+07      143  "
      ]
     },
     "execution_count": 21,
     "metadata": {},
     "output_type": "execute_result"
    }
   ],
   "source": [
    "# check descriptive statistics\n",
    "df.describe().apply(lambda s: s.apply(lambda x: format(x, 'g')))"
   ]
  },
  {
   "cell_type": "code",
   "execution_count": 22,
   "id": "2e734cc4",
   "metadata": {},
   "outputs": [
    {
     "data": {
      "text/plain": [
       "0.0     37438\n",
       "6.0      3977\n",
       "7.0      3604\n",
       "8.0      2810\n",
       "5.0      1876\n",
       "9.0      1176\n",
       "4.0       503\n",
       "10.0      339\n",
       "11.0      105\n",
       "3.0        69\n",
       "12.0       34\n",
       "2.0        11\n",
       "13.0       10\n",
       "14.0        5\n",
       "15.0        1\n",
       "1.0         1\n",
       "Name: total_num_of_rooms, dtype: int64"
      ]
     },
     "execution_count": 22,
     "metadata": {},
     "output_type": "execute_result"
    }
   ],
   "source": [
    "# check total number of rooms, there's quite a few that have zero so this may not be a useful feature\n",
    "df.total_num_of_rooms.value_counts()"
   ]
  },
  {
   "cell_type": "code",
   "execution_count": 23,
   "id": "d64a7595",
   "metadata": {},
   "outputs": [
    {
     "data": {
      "text/plain": [
       "(40549, 9)"
      ]
     },
     "execution_count": 23,
     "metadata": {},
     "output_type": "execute_result"
    }
   ],
   "source": [
    "# use a function to remove outliers\n",
    "df = wrangle.remove_outliers(df,1.5,['bedrooms','bathrooms','area','lot_area','taxvalue','age'])\n",
    "df.shape"
   ]
  },
  {
   "cell_type": "code",
   "execution_count": 24,
   "id": "de25d543",
   "metadata": {},
   "outputs": [
    {
     "data": {
      "text/html": [
       "<div>\n",
       "<style scoped>\n",
       "    .dataframe tbody tr th:only-of-type {\n",
       "        vertical-align: middle;\n",
       "    }\n",
       "\n",
       "    .dataframe tbody tr th {\n",
       "        vertical-align: top;\n",
       "    }\n",
       "\n",
       "    .dataframe thead th {\n",
       "        text-align: right;\n",
       "    }\n",
       "</style>\n",
       "<table border=\"1\" class=\"dataframe\">\n",
       "  <thead>\n",
       "    <tr style=\"text-align: right;\">\n",
       "      <th></th>\n",
       "      <th>bathrooms</th>\n",
       "      <th>bedrooms</th>\n",
       "      <th>area</th>\n",
       "      <th>fips</th>\n",
       "      <th>lot_area</th>\n",
       "      <th>total_num_of_rooms</th>\n",
       "      <th>taxvalue</th>\n",
       "      <th>age</th>\n",
       "    </tr>\n",
       "  </thead>\n",
       "  <tbody>\n",
       "    <tr>\n",
       "      <th>count</th>\n",
       "      <td>40549</td>\n",
       "      <td>40549</td>\n",
       "      <td>40549</td>\n",
       "      <td>40549</td>\n",
       "      <td>40549</td>\n",
       "      <td>40549</td>\n",
       "      <td>40549</td>\n",
       "      <td>40549</td>\n",
       "    </tr>\n",
       "    <tr>\n",
       "      <th>mean</th>\n",
       "      <td>2.07181</td>\n",
       "      <td>3.19695</td>\n",
       "      <td>1657.76</td>\n",
       "      <td>6049.15</td>\n",
       "      <td>6625.22</td>\n",
       "      <td>1.97231</td>\n",
       "      <td>363589</td>\n",
       "      <td>58.8723</td>\n",
       "    </tr>\n",
       "    <tr>\n",
       "      <th>std</th>\n",
       "      <td>0.710089</td>\n",
       "      <td>0.781355</td>\n",
       "      <td>581.799</td>\n",
       "      <td>20.9118</td>\n",
       "      <td>2046.07</td>\n",
       "      <td>3.12645</td>\n",
       "      <td>235058</td>\n",
       "      <td>20.9813</td>\n",
       "    </tr>\n",
       "    <tr>\n",
       "      <th>min</th>\n",
       "      <td>1</td>\n",
       "      <td>2</td>\n",
       "      <td>152</td>\n",
       "      <td>6037</td>\n",
       "      <td>1292</td>\n",
       "      <td>0</td>\n",
       "      <td>3254</td>\n",
       "      <td>7</td>\n",
       "    </tr>\n",
       "    <tr>\n",
       "      <th>25%</th>\n",
       "      <td>2</td>\n",
       "      <td>3</td>\n",
       "      <td>1227</td>\n",
       "      <td>6037</td>\n",
       "      <td>5400</td>\n",
       "      <td>0</td>\n",
       "      <td>171827</td>\n",
       "      <td>45</td>\n",
       "    </tr>\n",
       "    <tr>\n",
       "      <th>50%</th>\n",
       "      <td>2</td>\n",
       "      <td>3</td>\n",
       "      <td>1540</td>\n",
       "      <td>6037</td>\n",
       "      <td>6500</td>\n",
       "      <td>0</td>\n",
       "      <td>331810</td>\n",
       "      <td>62</td>\n",
       "    </tr>\n",
       "    <tr>\n",
       "      <th>75%</th>\n",
       "      <td>2.5</td>\n",
       "      <td>4</td>\n",
       "      <td>1991</td>\n",
       "      <td>6059</td>\n",
       "      <td>7678</td>\n",
       "      <td>5</td>\n",
       "      <td>508446</td>\n",
       "      <td>71</td>\n",
       "    </tr>\n",
       "    <tr>\n",
       "      <th>max</th>\n",
       "      <td>4</td>\n",
       "      <td>5</td>\n",
       "      <td>3557</td>\n",
       "      <td>6111</td>\n",
       "      <td>12510</td>\n",
       "      <td>12</td>\n",
       "      <td>1.08226e+06</td>\n",
       "      <td>109</td>\n",
       "    </tr>\n",
       "  </tbody>\n",
       "</table>\n",
       "</div>"
      ],
      "text/plain": [
       "      bathrooms  bedrooms     area     fips lot_area total_num_of_rooms  \\\n",
       "count     40549     40549    40549    40549    40549              40549   \n",
       "mean    2.07181   3.19695  1657.76  6049.15  6625.22            1.97231   \n",
       "std    0.710089  0.781355  581.799  20.9118  2046.07            3.12645   \n",
       "min           1         2      152     6037     1292                  0   \n",
       "25%           2         3     1227     6037     5400                  0   \n",
       "50%           2         3     1540     6037     6500                  0   \n",
       "75%         2.5         4     1991     6059     7678                  5   \n",
       "max           4         5     3557     6111    12510                 12   \n",
       "\n",
       "          taxvalue      age  \n",
       "count        40549    40549  \n",
       "mean        363589  58.8723  \n",
       "std         235058  20.9813  \n",
       "min           3254        7  \n",
       "25%         171827       45  \n",
       "50%         331810       62  \n",
       "75%         508446       71  \n",
       "max    1.08226e+06      109  "
      ]
     },
     "execution_count": 24,
     "metadata": {},
     "output_type": "execute_result"
    }
   ],
   "source": [
    "# check descriptive statistics\n",
    "df.describe().apply(lambda s: s.apply(lambda x: format(x, 'g')))"
   ]
  },
  {
   "cell_type": "code",
   "execution_count": 25,
   "id": "9b572052",
   "metadata": {},
   "outputs": [
    {
     "data": {
      "image/png": "[encoded data removed]",
      "text/plain": [
       "<Figure size 432x288 with 1 Axes>"
      ]
     },
     "metadata": {
      "needs_background": "light"
     },
     "output_type": "display_data"
    },
    {
     "data": {
      "image/png": "[encoded data removed]",
      "text/plain": [
       "<Figure size 432x288 with 1 Axes>"
      ]
     },
     "metadata": {
      "needs_background": "light"
     },
     "output_type": "display_data"
    },
    {
     "data": {
      "image/png": "[encoded data removed]",
      "text/plain": [
       "<Figure size 432x288 with 1 Axes>"
      ]
     },
     "metadata": {
      "needs_background": "light"
     },
     "output_type": "display_data"
    },
    {
     "data": {
      "image/png": "[encoded data removed]",
      "text/plain": [
       "<Figure size 432x288 with 1 Axes>"
      ]
     },
     "metadata": {
      "needs_background": "light"
     },
     "output_type": "display_data"
    },
    {
     "data": {
      "image/png": "[encoded data removed]",
      "text/plain": [
       "<Figure size 432x288 with 1 Axes>"
      ]
     },
     "metadata": {
      "needs_background": "light"
     },
     "output_type": "display_data"
    },
    {
     "data": {
      "image/png": "[encoded data removed]",
      "text/plain": [
       "<Figure size 432x288 with 1 Axes>"
      ]
     },
     "metadata": {
      "needs_background": "light"
     },
     "output_type": "display_data"
    },
    {
     "data": {
      "image/png": "[encoded data removed]",
      "text/plain": [
       "<Figure size 432x288 with 1 Axes>"
      ]
     },
     "metadata": {
      "needs_background": "light"
     },
     "output_type": "display_data"
    },
    {
     "data": {
      "image/png": "[encoded data removed]",
      "text/plain": [
       "<Figure size 432x288 with 1 Axes>"
      ]
     },
     "metadata": {
      "needs_background": "light"
     },
     "output_type": "display_data"
    },
    {
     "data": {
      "image/png": "[encoded data removed]",
      "text/plain": [
       "<Figure size 432x288 with 1 Axes>"
      ]
     },
     "metadata": {
      "needs_background": "light"
     },
     "output_type": "display_data"
    },
    {
     "data": {
      "image/png": "[encoded data removed]",
      "text/plain": [
       "<Figure size 432x288 with 1 Axes>"
      ]
     },
     "metadata": {
      "needs_background": "light"
     },
     "output_type": "display_data"
    },
    {
     "data": {
      "image/png": "[encoded data removed]",
      "text/plain": [
       "<Figure size 432x288 with 1 Axes>"
      ]
     },
     "metadata": {
      "needs_background": "light"
     },
     "output_type": "display_data"
    },
    {
     "data": {
      "image/png": "[encoded data removed]",
      "text/plain": [
       "<Figure size 432x288 with 1 Axes>"
      ]
     },
     "metadata": {
      "needs_background": "light"
     },
     "output_type": "display_data"
    },
    {
     "data": {
      "image/png": "[encoded data removed]",
      "text/plain": [
       "<Figure size 432x288 with 1 Axes>"
      ]
     },
     "metadata": {
      "needs_background": "light"
     },
     "output_type": "display_data"
    },
    {
     "data": {
      "image/png": "[encoded data removed]",
      "text/plain": [
       "<Figure size 432x288 with 1 Axes>"
      ]
     },
     "metadata": {
      "needs_background": "light"
     },
     "output_type": "display_data"
    }
   ],
   "source": [
    "# check distribution of numerical columns\n",
    "num_cols = ['bedrooms', 'bathrooms', 'area','lot_area','total_num_of_rooms',\n",
    "            'taxvalue', 'age']\n",
    "for col in num_cols: \n",
    "    sns.histplot(df[col], log_scale=[False,False], bins=25)\n",
    "    plt.show()\n",
    "    sns.boxplot(df[col])\n",
    "    plt.show()"
   ]
  },
  {
   "cell_type": "code",
   "execution_count": 26,
   "id": "918faae4",
   "metadata": {},
   "outputs": [
    {
     "data": {
      "text/plain": [
       "(0, 1220)"
      ]
     },
     "execution_count": 26,
     "metadata": {},
     "output_type": "execute_result"
    }
   ],
   "source": [
    "# check outliers for taxvalue greater than 1,500,000 or less than 50,000\n",
    "(df.taxvalue > 1_500_000).sum(), (df.taxvalue < 50_000).sum()"
   ]
  },
  {
   "cell_type": "code",
   "execution_count": 27,
   "id": "5282fd2b",
   "metadata": {},
   "outputs": [
    {
     "data": {
      "text/plain": [
       "(56, 8)"
      ]
     },
     "execution_count": 27,
     "metadata": {},
     "output_type": "execute_result"
    }
   ],
   "source": [
    "# check number of observations with area greater than 4000 or less than 500 ft\n",
    "(df.area > 3500).sum(), (df.area < 500).sum()"
   ]
  },
  {
   "cell_type": "code",
   "execution_count": 28,
   "id": "0d95df18",
   "metadata": {},
   "outputs": [],
   "source": [
    "# drop observations with area greater than 3500 or less than 500\n",
    "df = df[(df.area < 3500) & (df.area > 500)]"
   ]
  },
  {
   "cell_type": "code",
   "execution_count": 29,
   "id": "ef716113",
   "metadata": {},
   "outputs": [],
   "source": [
    "# drop observations with area greater than 3500 or less than 500\n",
    "df = df[(df.taxvalue < 1_500_000) & (df.taxvalue > 50_000)]"
   ]
  },
  {
   "cell_type": "code",
   "execution_count": 30,
   "id": "3ef329ae",
   "metadata": {},
   "outputs": [
    {
     "data": {
      "text/plain": [
       "(39265, 9)"
      ]
     },
     "execution_count": 30,
     "metadata": {},
     "output_type": "execute_result"
    }
   ],
   "source": [
    "# check current shape\n",
    "df.shape"
   ]
  },
  {
   "cell_type": "code",
   "execution_count": 31,
   "id": "5f7bdcae",
   "metadata": {},
   "outputs": [
    {
     "data": {
      "text/plain": [
       "6037.0    24990\n",
       "6059.0    10989\n",
       "6111.0     3286\n",
       "Name: fips, dtype: int64"
      ]
     },
     "execution_count": 31,
     "metadata": {},
     "output_type": "execute_result"
    }
   ],
   "source": [
    "# check fips value counts\n",
    "df.fips.value_counts()"
   ]
  },
  {
   "cell_type": "code",
   "execution_count": 32,
   "id": "476b048a",
   "metadata": {},
   "outputs": [
    {
     "data": {
      "text/html": [
       "<div>\n",
       "<style scoped>\n",
       "    .dataframe tbody tr th:only-of-type {\n",
       "        vertical-align: middle;\n",
       "    }\n",
       "\n",
       "    .dataframe tbody tr th {\n",
       "        vertical-align: top;\n",
       "    }\n",
       "\n",
       "    .dataframe thead th {\n",
       "        text-align: right;\n",
       "    }\n",
       "</style>\n",
       "<table border=\"1\" class=\"dataframe\">\n",
       "  <thead>\n",
       "    <tr style=\"text-align: right;\">\n",
       "      <th></th>\n",
       "      <th>bathrooms</th>\n",
       "      <th>bedrooms</th>\n",
       "      <th>area</th>\n",
       "      <th>fips</th>\n",
       "      <th>lot_area</th>\n",
       "      <th>total_num_of_rooms</th>\n",
       "      <th>yearbuilt</th>\n",
       "      <th>taxvalue</th>\n",
       "      <th>age</th>\n",
       "    </tr>\n",
       "  </thead>\n",
       "  <tbody>\n",
       "    <tr>\n",
       "      <th>0</th>\n",
       "      <td>4.0</td>\n",
       "      <td>4</td>\n",
       "      <td>2961</td>\n",
       "      <td>Los Angeles, CA</td>\n",
       "      <td>8127.0</td>\n",
       "      <td>0.0</td>\n",
       "      <td>1963</td>\n",
       "      <td>546265</td>\n",
       "      <td>58</td>\n",
       "    </tr>\n",
       "    <tr>\n",
       "      <th>1</th>\n",
       "      <td>2.0</td>\n",
       "      <td>3</td>\n",
       "      <td>1572</td>\n",
       "      <td>Los Angeles, CA</td>\n",
       "      <td>5000.0</td>\n",
       "      <td>0.0</td>\n",
       "      <td>1924</td>\n",
       "      <td>227863</td>\n",
       "      <td>97</td>\n",
       "    </tr>\n",
       "    <tr>\n",
       "      <th>2</th>\n",
       "      <td>2.0</td>\n",
       "      <td>3</td>\n",
       "      <td>1540</td>\n",
       "      <td>Los Angeles, CA</td>\n",
       "      <td>5555.0</td>\n",
       "      <td>0.0</td>\n",
       "      <td>1953</td>\n",
       "      <td>63380</td>\n",
       "      <td>68</td>\n",
       "    </tr>\n",
       "    <tr>\n",
       "      <th>3</th>\n",
       "      <td>2.0</td>\n",
       "      <td>3</td>\n",
       "      <td>1470</td>\n",
       "      <td>Los Angeles, CA</td>\n",
       "      <td>7287.0</td>\n",
       "      <td>0.0</td>\n",
       "      <td>1958</td>\n",
       "      <td>182691</td>\n",
       "      <td>63</td>\n",
       "    </tr>\n",
       "    <tr>\n",
       "      <th>4</th>\n",
       "      <td>2.0</td>\n",
       "      <td>2</td>\n",
       "      <td>1533</td>\n",
       "      <td>Los Angeles, CA</td>\n",
       "      <td>3124.0</td>\n",
       "      <td>0.0</td>\n",
       "      <td>1963</td>\n",
       "      <td>87557</td>\n",
       "      <td>58</td>\n",
       "    </tr>\n",
       "  </tbody>\n",
       "</table>\n",
       "</div>"
      ],
      "text/plain": [
       "   bathrooms  bedrooms  area             fips  lot_area  total_num_of_rooms  \\\n",
       "0        4.0         4  2961  Los Angeles, CA    8127.0                 0.0   \n",
       "1        2.0         3  1572  Los Angeles, CA    5000.0                 0.0   \n",
       "2        2.0         3  1540  Los Angeles, CA    5555.0                 0.0   \n",
       "3        2.0         3  1470  Los Angeles, CA    7287.0                 0.0   \n",
       "4        2.0         2  1533  Los Angeles, CA    3124.0                 0.0   \n",
       "\n",
       "  yearbuilt  taxvalue  age  \n",
       "0      1963    546265   58  \n",
       "1      1924    227863   97  \n",
       "2      1953     63380   68  \n",
       "3      1958    182691   63  \n",
       "4      1963     87557   58  "
      ]
     },
     "execution_count": 32,
     "metadata": {},
     "output_type": "execute_result"
    }
   ],
   "source": [
    "# replace fips number with city and state they represent for readability\n",
    "df.fips = df.fips.replace({6037:'Los Angeles, CA',6059:'Orange, CA',6111:'Ventura, CA'})\n",
    "df.head()"
   ]
  },
  {
   "cell_type": "code",
   "execution_count": 33,
   "id": "b7f35a5e",
   "metadata": {},
   "outputs": [
    {
     "data": {
      "text/html": [
       "<div>\n",
       "<style scoped>\n",
       "    .dataframe tbody tr th:only-of-type {\n",
       "        vertical-align: middle;\n",
       "    }\n",
       "\n",
       "    .dataframe tbody tr th {\n",
       "        vertical-align: top;\n",
       "    }\n",
       "\n",
       "    .dataframe thead th {\n",
       "        text-align: right;\n",
       "    }\n",
       "</style>\n",
       "<table border=\"1\" class=\"dataframe\">\n",
       "  <thead>\n",
       "    <tr style=\"text-align: right;\">\n",
       "      <th></th>\n",
       "      <th>Los Angeles, CA</th>\n",
       "      <th>Orange, CA</th>\n",
       "      <th>Ventura, CA</th>\n",
       "    </tr>\n",
       "  </thead>\n",
       "  <tbody>\n",
       "    <tr>\n",
       "      <th>0</th>\n",
       "      <td>1</td>\n",
       "      <td>0</td>\n",
       "      <td>0</td>\n",
       "    </tr>\n",
       "    <tr>\n",
       "      <th>1</th>\n",
       "      <td>1</td>\n",
       "      <td>0</td>\n",
       "      <td>0</td>\n",
       "    </tr>\n",
       "    <tr>\n",
       "      <th>2</th>\n",
       "      <td>1</td>\n",
       "      <td>0</td>\n",
       "      <td>0</td>\n",
       "    </tr>\n",
       "    <tr>\n",
       "      <th>3</th>\n",
       "      <td>1</td>\n",
       "      <td>0</td>\n",
       "      <td>0</td>\n",
       "    </tr>\n",
       "    <tr>\n",
       "      <th>4</th>\n",
       "      <td>1</td>\n",
       "      <td>0</td>\n",
       "      <td>0</td>\n",
       "    </tr>\n",
       "  </tbody>\n",
       "</table>\n",
       "</div>"
      ],
      "text/plain": [
       "   Los Angeles, CA  Orange, CA  Ventura, CA\n",
       "0                1           0            0\n",
       "1                1           0            0\n",
       "2                1           0            0\n",
       "3                1           0            0\n",
       "4                1           0            0"
      ]
     },
     "execution_count": 33,
     "metadata": {},
     "output_type": "execute_result"
    }
   ],
   "source": [
    "# encode fips column\n",
    "dummy_df = pd.get_dummies(df['fips'])\n",
    "dummy_df.head()"
   ]
  },
  {
   "cell_type": "code",
   "execution_count": 34,
   "id": "86ce4a6c",
   "metadata": {},
   "outputs": [
    {
     "data": {
      "text/html": [
       "<div>\n",
       "<style scoped>\n",
       "    .dataframe tbody tr th:only-of-type {\n",
       "        vertical-align: middle;\n",
       "    }\n",
       "\n",
       "    .dataframe tbody tr th {\n",
       "        vertical-align: top;\n",
       "    }\n",
       "\n",
       "    .dataframe thead th {\n",
       "        text-align: right;\n",
       "    }\n",
       "</style>\n",
       "<table border=\"1\" class=\"dataframe\">\n",
       "  <thead>\n",
       "    <tr style=\"text-align: right;\">\n",
       "      <th></th>\n",
       "      <th>bathrooms</th>\n",
       "      <th>bedrooms</th>\n",
       "      <th>area</th>\n",
       "      <th>lot_area</th>\n",
       "      <th>yearbuilt</th>\n",
       "      <th>taxvalue</th>\n",
       "      <th>age</th>\n",
       "      <th>Los Angeles, CA</th>\n",
       "      <th>Orange, CA</th>\n",
       "      <th>Ventura, CA</th>\n",
       "    </tr>\n",
       "  </thead>\n",
       "  <tbody>\n",
       "    <tr>\n",
       "      <th>0</th>\n",
       "      <td>4.0</td>\n",
       "      <td>4</td>\n",
       "      <td>2961</td>\n",
       "      <td>8127.0</td>\n",
       "      <td>1963</td>\n",
       "      <td>546265</td>\n",
       "      <td>58</td>\n",
       "      <td>1</td>\n",
       "      <td>0</td>\n",
       "      <td>0</td>\n",
       "    </tr>\n",
       "    <tr>\n",
       "      <th>1</th>\n",
       "      <td>2.0</td>\n",
       "      <td>3</td>\n",
       "      <td>1572</td>\n",
       "      <td>5000.0</td>\n",
       "      <td>1924</td>\n",
       "      <td>227863</td>\n",
       "      <td>97</td>\n",
       "      <td>1</td>\n",
       "      <td>0</td>\n",
       "      <td>0</td>\n",
       "    </tr>\n",
       "    <tr>\n",
       "      <th>2</th>\n",
       "      <td>2.0</td>\n",
       "      <td>3</td>\n",
       "      <td>1540</td>\n",
       "      <td>5555.0</td>\n",
       "      <td>1953</td>\n",
       "      <td>63380</td>\n",
       "      <td>68</td>\n",
       "      <td>1</td>\n",
       "      <td>0</td>\n",
       "      <td>0</td>\n",
       "    </tr>\n",
       "  </tbody>\n",
       "</table>\n",
       "</div>"
      ],
      "text/plain": [
       "   bathrooms  bedrooms  area  lot_area yearbuilt  taxvalue  age  \\\n",
       "0        4.0         4  2961    8127.0      1963    546265   58   \n",
       "1        2.0         3  1572    5000.0      1924    227863   97   \n",
       "2        2.0         3  1540    5555.0      1953     63380   68   \n",
       "\n",
       "   Los Angeles, CA  Orange, CA  Ventura, CA  \n",
       "0                1           0            0  \n",
       "1                1           0            0  \n",
       "2                1           0            0  "
      ]
     },
     "execution_count": 34,
     "metadata": {},
     "output_type": "execute_result"
    }
   ],
   "source": [
    "# concatenate dummy variables onto df and drop fips column\n",
    "df = pd.concat([df, dummy_df], axis=1).drop(columns=['fips','total_num_of_rooms'])\n",
    "df.head(3)"
   ]
  },
  {
   "cell_type": "code",
   "execution_count": 35,
   "id": "64ed6452",
   "metadata": {},
   "outputs": [
    {
     "data": {
      "text/plain": [
       "(39265, 10)"
      ]
     },
     "execution_count": 35,
     "metadata": {},
     "output_type": "execute_result"
    }
   ],
   "source": [
    "# check shape\n",
    "df.shape"
   ]
  },
  {
   "cell_type": "code",
   "execution_count": 36,
   "id": "b938e41a",
   "metadata": {},
   "outputs": [
    {
     "data": {
      "text/plain": [
       "(39265, 10)"
      ]
     },
     "execution_count": 36,
     "metadata": {},
     "output_type": "execute_result"
    }
   ],
   "source": [
    "# check function\n",
    "df = wrangle.clean_zillow_data(wrangle.get_zillow_data())\n",
    "df.shape"
   ]
  },
  {
   "cell_type": "code",
   "execution_count": 38,
   "id": "fee1fcc5",
   "metadata": {},
   "outputs": [
    {
     "data": {
      "text/plain": [
       "((21988, 10), (9424, 10), (7853, 10))"
      ]
     },
     "execution_count": 38,
     "metadata": {},
     "output_type": "execute_result"
    }
   ],
   "source": [
    "# check function\n",
    "train, validate, test = wrangle.split_data(df)\n",
    "train.shape, validate.shape, test.shape"
   ]
  },
  {
   "cell_type": "code",
   "execution_count": 39,
   "id": "996c1f0f",
   "metadata": {},
   "outputs": [
    {
     "data": {
      "text/plain": [
       "((21988, 10), (9424, 10), (7853, 10))"
      ]
     },
     "execution_count": 39,
     "metadata": {},
     "output_type": "execute_result"
    }
   ],
   "source": [
    "# check function\n",
    "train, validate, test = wrangle.wrangle_zillow()\n",
    "train.shape, validate.shape, test.shape"
   ]
  },
  {
   "cell_type": "code",
   "execution_count": 40,
   "id": "7ead94b0",
   "metadata": {},
   "outputs": [
    {
     "data": {
      "text/html": [
       "<div>\n",
       "<style scoped>\n",
       "    .dataframe tbody tr th:only-of-type {\n",
       "        vertical-align: middle;\n",
       "    }\n",
       "\n",
       "    .dataframe tbody tr th {\n",
       "        vertical-align: top;\n",
       "    }\n",
       "\n",
       "    .dataframe thead th {\n",
       "        text-align: right;\n",
       "    }\n",
       "</style>\n",
       "<table border=\"1\" class=\"dataframe\">\n",
       "  <thead>\n",
       "    <tr style=\"text-align: right;\">\n",
       "      <th></th>\n",
       "      <th>bathrooms</th>\n",
       "      <th>bedrooms</th>\n",
       "      <th>area</th>\n",
       "      <th>lot_area</th>\n",
       "      <th>yearbuilt</th>\n",
       "      <th>taxvalue</th>\n",
       "      <th>age</th>\n",
       "      <th>Los Angeles, CA</th>\n",
       "      <th>Orange, CA</th>\n",
       "      <th>Ventura, CA</th>\n",
       "    </tr>\n",
       "  </thead>\n",
       "  <tbody>\n",
       "    <tr>\n",
       "      <th>29532</th>\n",
       "      <td>2.5</td>\n",
       "      <td>4</td>\n",
       "      <td>3023</td>\n",
       "      <td>6000.0</td>\n",
       "      <td>1970</td>\n",
       "      <td>119834</td>\n",
       "      <td>51</td>\n",
       "      <td>0</td>\n",
       "      <td>1</td>\n",
       "      <td>0</td>\n",
       "    </tr>\n",
       "    <tr>\n",
       "      <th>3604</th>\n",
       "      <td>3.0</td>\n",
       "      <td>4</td>\n",
       "      <td>1745</td>\n",
       "      <td>5977.0</td>\n",
       "      <td>1956</td>\n",
       "      <td>559188</td>\n",
       "      <td>65</td>\n",
       "      <td>0</td>\n",
       "      <td>1</td>\n",
       "      <td>0</td>\n",
       "    </tr>\n",
       "    <tr>\n",
       "      <th>37044</th>\n",
       "      <td>2.0</td>\n",
       "      <td>4</td>\n",
       "      <td>1950</td>\n",
       "      <td>6804.0</td>\n",
       "      <td>1968</td>\n",
       "      <td>599723</td>\n",
       "      <td>53</td>\n",
       "      <td>0</td>\n",
       "      <td>1</td>\n",
       "      <td>0</td>\n",
       "    </tr>\n",
       "    <tr>\n",
       "      <th>41278</th>\n",
       "      <td>3.0</td>\n",
       "      <td>4</td>\n",
       "      <td>2136</td>\n",
       "      <td>10944.0</td>\n",
       "      <td>1967</td>\n",
       "      <td>98955</td>\n",
       "      <td>54</td>\n",
       "      <td>1</td>\n",
       "      <td>0</td>\n",
       "      <td>0</td>\n",
       "    </tr>\n",
       "    <tr>\n",
       "      <th>6683</th>\n",
       "      <td>2.0</td>\n",
       "      <td>3</td>\n",
       "      <td>1291</td>\n",
       "      <td>6790.0</td>\n",
       "      <td>1986</td>\n",
       "      <td>122666</td>\n",
       "      <td>35</td>\n",
       "      <td>1</td>\n",
       "      <td>0</td>\n",
       "      <td>0</td>\n",
       "    </tr>\n",
       "  </tbody>\n",
       "</table>\n",
       "</div>"
      ],
      "text/plain": [
       "       bathrooms  bedrooms  area  lot_area yearbuilt  taxvalue  age  \\\n",
       "29532        2.5         4  3023    6000.0      1970    119834   51   \n",
       "3604         3.0         4  1745    5977.0      1956    559188   65   \n",
       "37044        2.0         4  1950    6804.0      1968    599723   53   \n",
       "41278        3.0         4  2136   10944.0      1967     98955   54   \n",
       "6683         2.0         3  1291    6790.0      1986    122666   35   \n",
       "\n",
       "       Los Angeles, CA  Orange, CA  Ventura, CA  \n",
       "29532                0           1            0  \n",
       "3604                 0           1            0  \n",
       "37044                0           1            0  \n",
       "41278                1           0            0  \n",
       "6683                 1           0            0  "
      ]
     },
     "execution_count": 40,
     "metadata": {},
     "output_type": "execute_result"
    }
   ],
   "source": [
    "train.head()"
   ]
  },
  {
   "cell_type": "code",
   "execution_count": null,
   "id": "e8d0e470",
   "metadata": {},
   "outputs": [],
   "source": []
  }
 ],
 "metadata": {
  "kernelspec": {
   "display_name": "Python 3",
   "language": "python",
   "name": "python3"
  },
  "language_info": {
   "codemirror_mode": {
    "name": "ipython",
    "version": 3
   },
   "file_extension": ".py",
   "mimetype": "text/x-python",
   "name": "python",
   "nbconvert_exporter": "python",
   "pygments_lexer": "ipython3",
   "version": "3.8.8"
  }
 },
 "nbformat": 4,
 "nbformat_minor": 5
}
