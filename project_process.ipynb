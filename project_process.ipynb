{
 "cells": [
  {
   "cell_type": "code",
   "execution_count": null,
   "id": "0a9f8517",
   "metadata": {},
   "outputs": [],
   "source": [
    "# imports\n",
    "import pandas as pd\n",
    "import numpy as np\n",
    "import matplotlib.pyplot as plt\n",
    "import seaborn as sns\n",
    "from sklearn.model_selection import train_test_split\n",
    "from scipy import stats\n",
    "from math import sqrt\n",
    "\n",
    "from sklearn.ensemble import RandomForestClassifier\n",
    "from sklearn.neighbors import KNeighborsClassifier\n",
    "from sklearn.linear_model import LogisticRegression\n",
    "from sklearn.metrics import recall_score, precision_score, f1_score, accuracy_score\n",
    "from sklearn.tree import export_graphviz\n",
    "from sklearn.metrics import classification_report\n",
    "from sklearn.metrics import confusion_matrix\n",
    "from sklearn.metrics import mean_squared_error, r2_score\n",
    "from sklearn.linear_model import LinearRegression\n",
    "from sklearn.feature_selection import f_regression \n",
    "\n",
    "import graphviz\n",
    "from graphviz import Graph\n",
    "\n",
    "import env\n",
    "import acquire\n",
    "import prepare\n",
    "import os\n",
    "\n",
    "# turn off pink boxes for demo\n",
    "import warnings\n",
    "warnings.filterwarnings(\"ignore\")"
   ]
  },
  {
   "cell_type": "markdown",
   "id": "5dfa5a9a",
   "metadata": {},
   "source": [
    "# Planning"
   ]
  },
  {
   "cell_type": "markdown",
   "id": "e8d87676",
   "metadata": {},
   "source": [
    "**The goal** of this stage is to clearly define your goal(s), measures of success, and plans on how to achieve that.\n",
    "\n",
    "**The deliverable** is documentation of your goal, your measure of success, and how you plan on getting there.\n",
    "\n",
    "**How to get there:** You can get there by answering questions about the final product & formulating or identifying any initial hypotheses (from you or others).\n",
    "\n",
    "**Common questions include:**\n",
    "- What will the end product look like?\n",
    "- What format will it be in?\n",
    "- Who will it be delivered to?\n",
    "- How will it be used?\n",
    "- How will I know I'm done?\n",
    "- What is my MVP?\n",
    "- How will I know it's good enough?\n",
    "\n",
    "\n",
    "**Formulating hypotheses**\n",
    "- Is attribute V1 related to attribute V2?\n",
    "- Is the mean of target variable Y for subset A significantly different from that of subset B?"
   ]
  },
  {
   "cell_type": "markdown",
   "id": "020d86ac",
   "metadata": {},
   "source": [
    "# Acquisition"
   ]
  },
  {
   "cell_type": "markdown",
   "id": "efa5cc7b",
   "metadata": {},
   "source": [
    "**The goal** is to create a path from original data sources to the environment in which you will work with the data. You will gather data from sources in order to prepare and clean it in the next step.\n",
    "\n",
    "**The deliverable** is a file, acquire.py, that contains the function(s) needed to reproduce the acquisition of data.\n",
    "\n",
    "**How to get there:**\n",
    "\n",
    "- If the data source is SQL, you may need to do some clean-up, integration, aggregation or other manipulation of data in the SQL environment before reading the data into your python environment.\n",
    "- Using the Python library pandas, acquire the data into a dataframe using a function that reads from your source type, such as pandas.read_csv for acquiring data from a csv.\n",
    "- You may use Spark and/or Hive when acquiring data from a distributed environment, such as HDFS.\n",
    "Examples of source types include RDBMS, NoSQL, HDFS, Cloud Files (S3, google drive), static local flat files (csv, txt, xlsx)."
   ]
  },
  {
   "cell_type": "code",
   "execution_count": null,
   "id": "c29f87f0",
   "metadata": {},
   "outputs": [],
   "source": [
    "df.head()"
   ]
  },
  {
   "cell_type": "code",
   "execution_count": null,
   "id": "34397a5e",
   "metadata": {},
   "outputs": [],
   "source": [
    "df.shape"
   ]
  },
  {
   "cell_type": "code",
   "execution_count": null,
   "id": "8222af60",
   "metadata": {},
   "outputs": [],
   "source": [
    "df.describe().T"
   ]
  },
  {
   "cell_type": "code",
   "execution_count": null,
   "id": "36f6eacb",
   "metadata": {},
   "outputs": [],
   "source": [
    "df.info()"
   ]
  },
  {
   "cell_type": "code",
   "execution_count": null,
   "id": "5cf41a88",
   "metadata": {},
   "outputs": [],
   "source": [
    "# check categorical column values\n",
    "col_list = df.columns.tolist()\n",
    "for col in col_list:\n",
    "    if col not in ['customer_id', 'tenure', 'monthly_charges', 'total_charges']:\n",
    "        print(df[col].value_counts(dropna=False))"
   ]
  },
  {
   "cell_type": "markdown",
   "id": "e14f4b53",
   "metadata": {},
   "source": [
    "# Preparation"
   ]
  },
  {
   "cell_type": "markdown",
   "id": "7b774de0",
   "metadata": {},
   "source": [
    "**The goal** is to have data, split into 3 samples (train, validate, and test), in a format that can easily be explored, analyzed and visualized. \n",
    "\n",
    "**The deliverable** is a file, prep.py, that contains the function(s) needed to reproduce the preparation of the data.\n",
    "\n",
    "**How to get there:**\n",
    "\n",
    "- Python libraries: pandas, matplotlib, seaborn, scikit-learn.\n",
    "- Use pandas to perform tasks such as handling null values, outliers, normalizing text, binning of data, changing data types, etc.\n",
    "- Use matplotlib or seaborn to plot distributions of numeric attributes and target.\n",
    "- Use scikit-learn to split the data into train and test samples."
   ]
  },
  {
   "cell_type": "code",
   "execution_count": null,
   "id": "02d01a06",
   "metadata": {},
   "outputs": [],
   "source": [
    "df.isnull().sum()"
   ]
  },
  {
   "cell_type": "code",
   "execution_count": null,
   "id": "4768af9c",
   "metadata": {},
   "outputs": [],
   "source": [
    "df[df.exam1.isna()]"
   ]
  },
  {
   "cell_type": "code",
   "execution_count": null,
   "id": "952413b3",
   "metadata": {},
   "outputs": [],
   "source": [
    "df.isnull().any()"
   ]
  },
  {
   "cell_type": "code",
   "execution_count": null,
   "id": "7e1e8cb7",
   "metadata": {},
   "outputs": [],
   "source": [
    "df.columns[df.isnull().any()]"
   ]
  },
  {
   "cell_type": "code",
   "execution_count": null,
   "id": "6e22694c",
   "metadata": {},
   "outputs": [],
   "source": [
    "df['exam3'].value_counts(dropna=False, ascending=True)"
   ]
  },
  {
   "cell_type": "code",
   "execution_count": null,
   "id": "287133ae",
   "metadata": {},
   "outputs": [],
   "source": [
    "df = df.replace(r'^\\s*$', np.nan, regex=True)"
   ]
  },
  {
   "cell_type": "code",
   "execution_count": null,
   "id": "c46cbc6d",
   "metadata": {},
   "outputs": [],
   "source": [
    "df = df.dropna()\n",
    "df.info()"
   ]
  },
  {
   "cell_type": "code",
   "execution_count": null,
   "id": "a4dfbf0a",
   "metadata": {},
   "outputs": [],
   "source": [
    "df = df.astype('int')\n",
    "df.info()"
   ]
  },
  {
   "cell_type": "code",
   "execution_count": null,
   "id": "2431f8b0",
   "metadata": {},
   "outputs": [],
   "source": [
    "df.describe().T"
   ]
  },
  {
   "cell_type": "code",
   "execution_count": null,
   "id": "af1e8092",
   "metadata": {},
   "outputs": [],
   "source": [
    "sns.displot(x='final_grade', data=df)\n",
    "\n",
    "plt.title('final_grade')\n",
    "plt.show()"
   ]
  },
  {
   "cell_type": "code",
   "execution_count": 1,
   "id": "39b35faf",
   "metadata": {},
   "outputs": [
    {
     "ename": "NameError",
     "evalue": "name 'plt' is not defined",
     "output_type": "error",
     "traceback": [
      "\u001b[0;31m---------------------------------------------------------------------------\u001b[0m",
      "\u001b[0;31mNameError\u001b[0m                                 Traceback (most recent call last)",
      "\u001b[0;32m<ipython-input-1-64733555bdcd>\u001b[0m in \u001b[0;36m<module>\u001b[0;34m\u001b[0m\n\u001b[0;32m----> 1\u001b[0;31m \u001b[0mplt\u001b[0m\u001b[0;34m.\u001b[0m\u001b[0mfigure\u001b[0m\u001b[0;34m(\u001b[0m\u001b[0mfigsize\u001b[0m\u001b[0;34m=\u001b[0m\u001b[0;34m(\u001b[0m\u001b[0;36m16\u001b[0m\u001b[0;34m,\u001b[0m \u001b[0;36m3\u001b[0m\u001b[0;34m)\u001b[0m\u001b[0;34m)\u001b[0m\u001b[0;34m\u001b[0m\u001b[0;34m\u001b[0m\u001b[0m\n\u001b[0m\u001b[1;32m      2\u001b[0m \u001b[0;34m\u001b[0m\u001b[0m\n\u001b[1;32m      3\u001b[0m \u001b[0;31m# List of columns\u001b[0m\u001b[0;34m\u001b[0m\u001b[0;34m\u001b[0m\u001b[0;34m\u001b[0m\u001b[0m\n\u001b[1;32m      4\u001b[0m \u001b[0mcols\u001b[0m \u001b[0;34m=\u001b[0m \u001b[0;34m[\u001b[0m\u001b[0;34m'exam1'\u001b[0m\u001b[0;34m,\u001b[0m \u001b[0;34m'exam2'\u001b[0m\u001b[0;34m,\u001b[0m \u001b[0;34m'exam3'\u001b[0m\u001b[0;34m,\u001b[0m \u001b[0;34m'final_grade'\u001b[0m\u001b[0;34m]\u001b[0m\u001b[0;34m\u001b[0m\u001b[0;34m\u001b[0m\u001b[0m\n\u001b[1;32m      5\u001b[0m \u001b[0;34m\u001b[0m\u001b[0m\n",
      "\u001b[0;31mNameError\u001b[0m: name 'plt' is not defined"
     ]
    }
   ],
   "source": [
    "plt.figure(figsize=(16, 3))\n",
    "\n",
    "# List of columns\n",
    "cols = ['exam1', 'exam2', 'exam3', 'final_grade']\n",
    "\n",
    "for i, col in enumerate(cols):\n",
    "    \n",
    "    # i starts at 0, but plot nos should start at 1\n",
    "    plot_number = i + 1 \n",
    "    \n",
    "    # Create subplot.\n",
    "    plt.subplot(1,4, plot_number)\n",
    "    \n",
    "    # Title with column name.\n",
    "    plt.title(col)\n",
    "    \n",
    "    # Display histogram for column.\n",
    "    df[col].hist(bins=5, edgecolor='black')\n",
    "    \n",
    "    # Hide gridlines.\n",
    "    plt.grid(False)"
   ]
  },
  {
   "cell_type": "code",
   "execution_count": null,
   "id": "2c0bf440",
   "metadata": {},
   "outputs": [],
   "source": [
    "# We don't want to plot the `student_id` column.\n",
    "\n",
    "plt.figure(figsize=(8,4))\n",
    "\n",
    "# Create boxplots for all but student_id.\n",
    "sns.boxplot(data=df.drop(columns=['student_id']))\n",
    "plt.title('')\n",
    "plt.ylabel('Grade')\n",
    "plt.xlabel('Assessment')\n",
    "plt.show()"
   ]
  },
  {
   "cell_type": "code",
   "execution_count": null,
   "id": "a01fd359",
   "metadata": {},
   "outputs": [],
   "source": [
    "def remove_outliers(df, k, col_list):\n",
    "    ''' remove outliers from a list of columns in a dataframe \n",
    "        and return that dataframe\n",
    "    '''\n",
    "    \n",
    "    for col in col_list:\n",
    "\n",
    "        q1, q3 = df[col].quantile([.25, .75])  # get quartiles\n",
    "        \n",
    "        iqr = q3 - q1   # calculate interquartile range\n",
    "        \n",
    "        upper_bound = q3 + k * iqr   # get upper bound\n",
    "        lower_bound = q1 - k * iqr   # get lower bound\n",
    "\n",
    "        # return dataframe without outliers\n",
    "        \n",
    "        df = df[(df[col] > lower_bound) & (df[col] < upper_bound)]\n",
    "        \n",
    "    return df"
   ]
  },
  {
   "cell_type": "code",
   "execution_count": null,
   "id": "7e94cab7",
   "metadata": {},
   "outputs": [],
   "source": [
    "df = remove_outliers(df, 1.5, ['exam1', 'exam2', 'exam3'])"
   ]
  },
  {
   "cell_type": "markdown",
   "id": "a33ad523",
   "metadata": {},
   "source": [
    "# Exploration & Pre-Processing"
   ]
  },
  {
   "cell_type": "markdown",
   "id": "16b0c9a1",
   "metadata": {},
   "source": [
    "**The goal** is to discover features that have the largest impact on the target variable, i.e. provide the most information gain, drive the outcome.\n",
    "\n",
    "**The deliverable** is a file, preprocess.py, that contains the function(s) needed to reproduce the pre-processing of the data. \n",
    "\n",
    "The dataframe resulting from these functions should be one that is pre-processed, i.e. ready to be used in modeling. This means that attributes are reduced to features, features are in a numeric form, there are no missing values, and continuous and/or ordered values are scaled to be unitless.\n",
    "\n",
    "**How to get there:**\n",
    "\n",
    "- Use python libraries: pandas, statsmodels, scipy, numpy, matplotlib, seaborn, scikit-learn.\n",
    "- Perform statistical testing to understand correlations, significant differences in variables, variable interdependencies, etc.\n",
    "- Create visualizations that demonstrate relationships across and within attributes and target.\n",
    "- Use domain knowledge and/or information gained through exploration to construct new features.\n",
    "- Remove features that are noisy, provide no valuable or new information, or are redundant.\n",
    "- Use scikit-learn's preprocessing algorithms (feature selection, feature engineering, dummy variables, binning, clustering, e.g.) to turn attributes into features."
   ]
  },
  {
   "cell_type": "markdown",
   "id": "b7d4d5b9",
   "metadata": {},
   "source": [
    "# Modeling"
   ]
  },
  {
   "cell_type": "markdown",
   "id": "35d135ba",
   "metadata": {},
   "source": [
    "**The goal** is to create a robust and generalizable model that is a mapping between features and a target outcome.\n",
    "\n",
    "**The deliverable** is a file, model.py, that contains functions for training the model (fit), predicting the target on new data, and evaluating results.\n",
    "\n",
    "**How to get there:**\n",
    "\n",
    "- Python libraries: scikit-learn\n",
    "- Identify regression, classification, cross validataion, and/or other algorithms that are most appropriate.\n",
    "- Build your model:\n",
    "- Create the model object.\n",
    "- Fit the model to your training, or in-sample, observations.\n",
    "- Predict the target value on your training observations.\n",
    "- Evaluate results on the in-sample predictions.\n",
    "- Repeat as necessary with other algorithms or hyperparameters.\n",
    "- Using the best performing model, predict on test, out-of-sample, observations.\n",
    "- Evaluate results on the out-of-sample predictions."
   ]
  },
  {
   "cell_type": "markdown",
   "id": "d228b4bb",
   "metadata": {},
   "source": [
    "# Delivery"
   ]
  },
  {
   "cell_type": "markdown",
   "id": "e587595b",
   "metadata": {},
   "source": [
    "**The goal** is to enable others to use what you have learned or developed through all the previous stages.\n",
    "\n",
    "**The deliverable** could be of various types:\n",
    "\n",
    "- A pipeline.py file that takes new observations from acquisition to prediction using the previously built functions.\n",
    "- A fully deployed model.\n",
    "- A reproducible report and/or presentation with recommendations of actions to take based on original project goals.\n",
    "- Predictions made on a specific set of observations.\n",
    "- A dashboard for observing/monitoring the key drivers, or features, of the target variable.\n",
    "\n",
    "**How to get there:**\n",
    "\n",
    "- Python sklearn's pipeline method.\n",
    "- Tableau for creating a report, presentation, story, or dashboard.\n",
    "- Jupyter notebook for creating a report or a framework to reproduce your research, e.g.\n",
    "- Flask to build a web server that provides a gateway to our model's predictions."
   ]
  },
  {
   "cell_type": "code",
   "execution_count": null,
   "id": "155ba895",
   "metadata": {},
   "outputs": [],
   "source": []
  }
 ],
 "metadata": {
  "kernelspec": {
   "display_name": "Python 3",
   "language": "python",
   "name": "python3"
  },
  "language_info": {
   "codemirror_mode": {
    "name": "ipython",
    "version": 3
   },
   "file_extension": ".py",
   "mimetype": "text/x-python",
   "name": "python",
   "nbconvert_exporter": "python",
   "pygments_lexer": "ipython3",
   "version": "3.8.8"
  }
 },
 "nbformat": 4,
 "nbformat_minor": 5
}
